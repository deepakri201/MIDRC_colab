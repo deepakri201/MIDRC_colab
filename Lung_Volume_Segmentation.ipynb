{
  "nbformat": 4,
  "nbformat_minor": 0,
  "metadata": {
    "colab": {
      "provenance": [],
      "include_colab_link": true
    },
    "kernelspec": {
      "name": "python3",
      "display_name": "Python 3"
    },
    "language_info": {
      "name": "python"
    }
  },
  "cells": [
    {
      "cell_type": "markdown",
      "metadata": {
        "id": "view-in-github",
        "colab_type": "text"
      },
      "source": [
        "<a href=\"https://colab.research.google.com/github/nadya-58/MIDRC_colab/blob/main/Lung_Volume_Segmentation.ipynb\" target=\"_parent\"><img src=\"https://colab.research.google.com/assets/colab-badge.svg\" alt=\"Open In Colab\"/></a>"
      ]
    },
    {
      "cell_type": "code",
      "execution_count": 1,
      "metadata": {
        "colab": {
          "base_uri": "https://localhost:8080/"
        },
        "id": "QZr5-mEOOxyC",
        "outputId": "5dc57af5-5b7e-4f3c-f660-9fd791b704f1"
      },
      "outputs": [
        {
          "output_type": "stream",
          "name": "stdout",
          "text": [
            "Updated property [core/project].\n"
          ]
        }
      ],
      "source": [
        "!gcloud config set project  bwh-midrc-rapid-res-1655321320"
      ]
    },
    {
      "cell_type": "code",
      "execution_count": 2,
      "metadata": {
        "id": "3Kk0d3lMmDp3"
      },
      "outputs": [],
      "source": [
        "from google.colab import auth\n",
        "auth.authenticate_user()"
      ]
    },
    {
      "cell_type": "code",
      "execution_count": 3,
      "metadata": {
        "id": "Yh3-KLKmwKkK"
      },
      "outputs": [],
      "source": [
        "  project_name = \"bwh-midrc-rapid-res-1655321320\"\n",
        "  bucket_name = \"midrc-analysis-bwh\"\n",
        "  bucket_path = \"bpr-results/\""
      ]
    },
    {
      "cell_type": "code",
      "source": [
        "import os\n",
        "import shutil\n",
        "import glob\n",
        "import json\n",
        "import matplotlib.pyplot as plt\n",
        "from matplotlib import transforms\n",
        "from matplotlib.colors import ListedColormap\n",
        "import numpy as np"
      ],
      "metadata": {
        "id": "_QlWCQXYkXGz"
      },
      "execution_count": 4,
      "outputs": []
    },
    {
      "cell_type": "code",
      "source": [
        "bucket_name = 'midrc-analysis'\n",
        "bucket_path = 'bpr-results'\n",
        "#!gsutil mb gs://{bucket_name}\n",
        "!gsutil cp /content/json_data/2.16.840.1.114274.1818.56006340868836576058065240047448675238.json gs://{bucket_name}/{bucket_path}\n",
        "!gsutil cat gs://{bucket_name}/{bucket_path}/2.16.840.1.114274.1818.56006340868836576058065240047448675238.json"
      ],
      "metadata": {
        "colab": {
          "base_uri": "https://localhost:8080/"
        },
        "id": "BXMPz0qsMgbR",
        "outputId": "3cd971fa-8777-458e-f672-85f66fc60634"
      },
      "execution_count": null,
      "outputs": [
        {
          "output_type": "stream",
          "name": "stdout",
          "text": [
            "CommandException: No URLs matched: /content/json_data/2.16.840.1.114274.1818.56006340868836576058065240047448675238.json\n"
          ]
        }
      ]
    },
    {
      "cell_type": "code",
      "source": [
        "file_exists_in_bucket(project_name, bucket_name, \"gs://midrc-analysis/bpr-results/2.16.840.1.114274.1818.56006340868836576058065240047448675239.json\")"
      ],
      "metadata": {
        "colab": {
          "base_uri": "https://localhost:8080/"
        },
        "id": "QmlCNXP3rR5G",
        "outputId": "1f8cb2ce-a90c-414f-a532-c0a2805e26c1"
      },
      "execution_count": null,
      "outputs": [
        {
          "output_type": "stream",
          "name": "stdout",
          "text": [
            "Searching gs://midrc-analysis/ for: \n",
            "bpr-results/2.16.840.1.114274.1818.56006340868836576058065240047448675239.json\n",
            "\n"
          ]
        },
        {
          "output_type": "execute_result",
          "data": {
            "text/plain": [
              "False"
            ]
          },
          "metadata": {},
          "execution_count": 38
        }
      ]
    },
    {
      "cell_type": "code",
      "source": [
        "!pip install dicomweb-client"
      ],
      "metadata": {
        "colab": {
          "base_uri": "https://localhost:8080/",
          "height": 641
        },
        "id": "Y0rZyRJJmGQZ",
        "outputId": "1557a96d-5a1a-45c5-8c26-abc5ed48e15f"
      },
      "execution_count": 5,
      "outputs": [
        {
          "output_type": "stream",
          "name": "stdout",
          "text": [
            "Looking in indexes: https://pypi.org/simple, https://us-python.pkg.dev/colab-wheels/public/simple/\n",
            "Collecting dicomweb-client\n",
            "  Downloading dicomweb_client-0.57.1-py3-none-any.whl (58 kB)\n",
            "\u001b[K     |████████████████████████████████| 58 kB 3.2 MB/s \n",
            "\u001b[?25hCollecting pydicom>=2.2\n",
            "  Downloading pydicom-2.3.0-py3-none-any.whl (2.0 MB)\n",
            "\u001b[K     |████████████████████████████████| 2.0 MB 10.8 MB/s \n",
            "\u001b[?25hRequirement already satisfied: requests>=2.18 in /usr/local/lib/python3.7/dist-packages (from dicomweb-client) (2.23.0)\n",
            "Collecting Pillow>=8.3\n",
            "  Downloading Pillow-9.2.0-cp37-cp37m-manylinux_2_17_x86_64.manylinux2014_x86_64.whl (3.1 MB)\n",
            "\u001b[K     |████████████████████████████████| 3.1 MB 34.8 MB/s \n",
            "\u001b[?25hCollecting retrying>=1.3.3\n",
            "  Downloading retrying-1.3.3.tar.gz (10 kB)\n",
            "Requirement already satisfied: numpy>=1.19 in /usr/local/lib/python3.7/dist-packages (from dicomweb-client) (1.21.6)\n",
            "Requirement already satisfied: typing-extensions>=4.0 in /usr/local/lib/python3.7/dist-packages (from dicomweb-client) (4.1.1)\n",
            "Requirement already satisfied: chardet<4,>=3.0.2 in /usr/local/lib/python3.7/dist-packages (from requests>=2.18->dicomweb-client) (3.0.4)\n",
            "Requirement already satisfied: urllib3!=1.25.0,!=1.25.1,<1.26,>=1.21.1 in /usr/local/lib/python3.7/dist-packages (from requests>=2.18->dicomweb-client) (1.24.3)\n",
            "Requirement already satisfied: idna<3,>=2.5 in /usr/local/lib/python3.7/dist-packages (from requests>=2.18->dicomweb-client) (2.10)\n",
            "Requirement already satisfied: certifi>=2017.4.17 in /usr/local/lib/python3.7/dist-packages (from requests>=2.18->dicomweb-client) (2022.6.15)\n",
            "Requirement already satisfied: six>=1.7.0 in /usr/local/lib/python3.7/dist-packages (from retrying>=1.3.3->dicomweb-client) (1.15.0)\n",
            "Building wheels for collected packages: retrying\n",
            "  Building wheel for retrying (setup.py) ... \u001b[?25l\u001b[?25hdone\n",
            "  Created wheel for retrying: filename=retrying-1.3.3-py3-none-any.whl size=11447 sha256=cb95a5bb5c1deb2df91a107801f099fa393a0feeea3f5664e5d1100863b7c60a\n",
            "  Stored in directory: /root/.cache/pip/wheels/f9/8d/8d/f6af3f7f9eea3553bc2fe6d53e4b287dad18b06a861ac56ddf\n",
            "Successfully built retrying\n",
            "Installing collected packages: retrying, pydicom, Pillow, dicomweb-client\n",
            "  Attempting uninstall: Pillow\n",
            "    Found existing installation: Pillow 7.1.2\n",
            "    Uninstalling Pillow-7.1.2:\n",
            "      Successfully uninstalled Pillow-7.1.2\n",
            "Successfully installed Pillow-9.2.0 dicomweb-client-0.57.1 pydicom-2.3.0 retrying-1.3.3\n"
          ]
        },
        {
          "output_type": "display_data",
          "data": {
            "application/vnd.colab-display-data+json": {
              "pip_warning": {
                "packages": [
                  "PIL"
                ]
              }
            }
          },
          "metadata": {}
        }
      ]
    },
    {
      "cell_type": "code",
      "execution_count": 6,
      "metadata": {
        "id": "KZYEUFWcW6pG",
        "colab": {
          "base_uri": "https://localhost:8080/"
        },
        "outputId": "047630d3-4b5d-4349-ceae-1e411b5f2170"
      },
      "outputs": [
        {
          "output_type": "stream",
          "name": "stdout",
          "text": [
            "Looking in indexes: https://pypi.org/simple, https://us-python.pkg.dev/colab-wheels/public/simple/\n",
            "Collecting pynrrd\n",
            "  Downloading pynrrd-0.4.3-py2.py3-none-any.whl (18 kB)\n",
            "Requirement already satisfied: numpy>=1.11.1 in /usr/local/lib/python3.7/dist-packages (from pynrrd) (1.21.6)\n",
            "Installing collected packages: pynrrd\n",
            "Successfully installed pynrrd-0.4.3\n"
          ]
        }
      ],
      "source": [
        "#install nrrd\n",
        "!pip install pynrrd"
      ]
    },
    {
      "cell_type": "code",
      "source": [
        "!pip install SimpleITK"
      ],
      "metadata": {
        "colab": {
          "base_uri": "https://localhost:8080/"
        },
        "id": "Rf1ng4GmcMIB",
        "outputId": "210e793e-349a-41d6-f642-b488ed30f859"
      },
      "execution_count": 7,
      "outputs": [
        {
          "output_type": "stream",
          "name": "stdout",
          "text": [
            "Looking in indexes: https://pypi.org/simple, https://us-python.pkg.dev/colab-wheels/public/simple/\n",
            "Collecting SimpleITK\n",
            "  Downloading SimpleITK-2.2.0-cp37-cp37m-manylinux_2_17_x86_64.manylinux2014_x86_64.whl (52.8 MB)\n",
            "\u001b[K     |████████████████████████████████| 52.8 MB 221 kB/s \n",
            "\u001b[?25hInstalling collected packages: SimpleITK\n",
            "Successfully installed SimpleITK-2.2.0\n"
          ]
        }
      ]
    },
    {
      "cell_type": "code",
      "execution_count": 8,
      "metadata": {
        "id": "CU-D744Jl1dG",
        "colab": {
          "base_uri": "https://localhost:8080/"
        },
        "outputId": "454905ca-0eae-49de-e492-c36b3cfc99a2"
      },
      "outputs": [
        {
          "output_type": "stream",
          "name": "stdout",
          "text": [
            "Reading package lists... Done\n",
            "Building dependency tree       \n",
            "Reading state information... Done\n",
            "The following package was automatically installed and is no longer required:\n",
            "  libnvidia-common-460\n",
            "Use 'sudo apt autoremove' to remove it.\n",
            "The following additional packages will be installed:\n",
            "  libdcmtk12 libdlib-data libdlib18 libfftw3-single3 libinsighttoolkit4.12\n",
            "  libnifti2\n",
            "Suggested packages:\n",
            "  libfftw3-bin libfftw3-dev\n",
            "The following NEW packages will be installed:\n",
            "  libdcmtk12 libdlib-data libdlib18 libfftw3-single3 libinsighttoolkit4.12\n",
            "  libnifti2 plastimatch\n",
            "0 upgraded, 7 newly installed, 0 to remove and 20 not upgraded.\n",
            "Need to get 76.0 MB of archives.\n",
            "After this operation, 162 MB of additional disk space will be used.\n",
            "Get:1 http://archive.ubuntu.com/ubuntu bionic/universe amd64 libdcmtk12 amd64 3.6.2-3build3 [4,499 kB]\n",
            "Get:2 http://archive.ubuntu.com/ubuntu bionic/universe amd64 libdlib-data all 18.18-2build1 [63.4 MB]\n",
            "Get:3 http://archive.ubuntu.com/ubuntu bionic/universe amd64 libdlib18 amd64 18.18-2build1 [251 kB]\n",
            "Get:4 http://archive.ubuntu.com/ubuntu bionic/main amd64 libfftw3-single3 amd64 3.3.7-1 [764 kB]\n",
            "Get:5 http://archive.ubuntu.com/ubuntu bionic/universe amd64 libnifti2 amd64 2.0.0-2build1 [102 kB]\n",
            "Get:6 http://archive.ubuntu.com/ubuntu bionic/universe amd64 libinsighttoolkit4.12 amd64 4.12.2-dfsg1-1ubuntu1 [4,301 kB]\n",
            "Get:7 http://archive.ubuntu.com/ubuntu bionic/universe amd64 plastimatch amd64 1.7.0+dfsg.1-1 [2,700 kB]\n",
            "Fetched 76.0 MB in 3s (23.0 MB/s)\n",
            "debconf: unable to initialize frontend: Dialog\n",
            "debconf: (No usable dialog-like program is installed, so the dialog based frontend cannot be used. at /usr/share/perl5/Debconf/FrontEnd/Dialog.pm line 76, <> line 7.)\n",
            "debconf: falling back to frontend: Readline\n",
            "debconf: unable to initialize frontend: Readline\n",
            "debconf: (This frontend requires a controlling tty.)\n",
            "debconf: falling back to frontend: Teletype\n",
            "dpkg-preconfigure: unable to re-open stdin: \n",
            "Selecting previously unselected package libdcmtk12.\n",
            "(Reading database ... 155685 files and directories currently installed.)\n",
            "Preparing to unpack .../0-libdcmtk12_3.6.2-3build3_amd64.deb ...\n",
            "Unpacking libdcmtk12 (3.6.2-3build3) ...\n",
            "Selecting previously unselected package libdlib-data.\n",
            "Preparing to unpack .../1-libdlib-data_18.18-2build1_all.deb ...\n",
            "Unpacking libdlib-data (18.18-2build1) ...\n",
            "Selecting previously unselected package libdlib18.\n",
            "Preparing to unpack .../2-libdlib18_18.18-2build1_amd64.deb ...\n",
            "Unpacking libdlib18 (18.18-2build1) ...\n",
            "Selecting previously unselected package libfftw3-single3:amd64.\n",
            "Preparing to unpack .../3-libfftw3-single3_3.3.7-1_amd64.deb ...\n",
            "Unpacking libfftw3-single3:amd64 (3.3.7-1) ...\n",
            "Selecting previously unselected package libnifti2.\n",
            "Preparing to unpack .../4-libnifti2_2.0.0-2build1_amd64.deb ...\n",
            "Unpacking libnifti2 (2.0.0-2build1) ...\n",
            "Selecting previously unselected package libinsighttoolkit4.12.\n",
            "Preparing to unpack .../5-libinsighttoolkit4.12_4.12.2-dfsg1-1ubuntu1_amd64.deb ...\n",
            "Unpacking libinsighttoolkit4.12 (4.12.2-dfsg1-1ubuntu1) ...\n",
            "Selecting previously unselected package plastimatch.\n",
            "Preparing to unpack .../6-plastimatch_1.7.0+dfsg.1-1_amd64.deb ...\n",
            "Unpacking plastimatch (1.7.0+dfsg.1-1) ...\n",
            "Setting up libdlib-data (18.18-2build1) ...\n",
            "Setting up libnifti2 (2.0.0-2build1) ...\n",
            "Setting up libdlib18 (18.18-2build1) ...\n",
            "Setting up libdcmtk12 (3.6.2-3build3) ...\n",
            "Setting up libfftw3-single3:amd64 (3.3.7-1) ...\n",
            "Setting up libinsighttoolkit4.12 (4.12.2-dfsg1-1ubuntu1) ...\n",
            "Setting up plastimatch (1.7.0+dfsg.1-1) ...\n",
            "Processing triggers for man-db (2.8.3-2ubuntu0.1) ...\n",
            "Processing triggers for libc-bin (2.27-3ubuntu1.5) ...\n",
            "plastimatch version 1.7.0\n",
            "Cloning into 'pyplastimatch'...\n",
            "remote: Enumerating objects: 361, done.\u001b[K\n",
            "remote: Counting objects: 100% (104/104), done.\u001b[K\n",
            "remote: Compressing objects: 100% (68/68), done.\u001b[K\n",
            "remote: Total 361 (delta 38), reused 97 (delta 32), pack-reused 257\u001b[K\n",
            "Receiving objects: 100% (361/361), 55.58 MiB | 21.92 MiB/s, done.\n",
            "Resolving deltas: 100% (40/40), done.\n"
          ]
        }
      ],
      "source": [
        "#Install Plastimatch\n",
        "\n",
        "!sudo apt install plastimatch \n",
        "!echo $(plastimatch --version)\n",
        "\n",
        "if os.path.isdir('/content/pyplastimatch'):\n",
        "  try:\n",
        "    shutil.rmtree('/content/pyplastimatch')\n",
        "  except OSError as err:\n",
        "    print(\"Error: %s : %s\" % (\"pyplastimatch\", err.strerror)) \n",
        "# !git clone https://github.com/denbonte/pyplastimatch/ pyplastimatch\n",
        "!git clone https://github.com/AIM-Harvard/pyplastimatch.git \n",
        "\n",
        "# from pyplastimatch import pyplastimatch as pypla\n",
        "from pyplastimatch.pyplastimatch import pyplastimatch as pypla"
      ]
    },
    {
      "cell_type": "code",
      "source": [
        "!pip install git+https://github.com/JoHof/lungmask"
      ],
      "metadata": {
        "colab": {
          "base_uri": "https://localhost:8080/"
        },
        "id": "5hwQ5BKS69lL",
        "outputId": "1a3c232d-1489-47d2-a839-da7f6316e700"
      },
      "execution_count": 9,
      "outputs": [
        {
          "output_type": "stream",
          "name": "stdout",
          "text": [
            "Looking in indexes: https://pypi.org/simple, https://us-python.pkg.dev/colab-wheels/public/simple/\n",
            "Collecting git+https://github.com/JoHof/lungmask\n",
            "  Cloning https://github.com/JoHof/lungmask to /tmp/pip-req-build-hbjqgiyz\n",
            "  Running command git clone -q https://github.com/JoHof/lungmask /tmp/pip-req-build-hbjqgiyz\n",
            "Requirement already satisfied: pydicom in /usr/local/lib/python3.7/dist-packages (from lungmask==0.2.11) (2.3.0)\n",
            "Requirement already satisfied: numpy in /usr/local/lib/python3.7/dist-packages (from lungmask==0.2.11) (1.21.6)\n",
            "Requirement already satisfied: torch in /usr/local/lib/python3.7/dist-packages (from lungmask==0.2.11) (1.12.1+cu113)\n",
            "Requirement already satisfied: scipy in /usr/local/lib/python3.7/dist-packages (from lungmask==0.2.11) (1.7.3)\n",
            "Requirement already satisfied: SimpleITK in /usr/local/lib/python3.7/dist-packages (from lungmask==0.2.11) (2.2.0)\n",
            "Requirement already satisfied: tqdm in /usr/local/lib/python3.7/dist-packages (from lungmask==0.2.11) (4.64.0)\n",
            "Requirement already satisfied: scikit-image in /usr/local/lib/python3.7/dist-packages (from lungmask==0.2.11) (0.18.3)\n",
            "Collecting fill_voids\n",
            "  Downloading fill_voids-2.0.2-cp37-cp37m-manylinux2010_x86_64.whl (1.1 MB)\n",
            "\u001b[K     |████████████████████████████████| 1.1 MB 5.2 MB/s \n",
            "\u001b[?25hCollecting fastremap\n",
            "  Downloading fastremap-1.13.3-cp37-cp37m-manylinux_2_17_x86_64.manylinux2014_x86_64.whl (4.2 MB)\n",
            "\u001b[K     |████████████████████████████████| 4.2 MB 31.7 MB/s \n",
            "\u001b[?25hRequirement already satisfied: matplotlib!=3.0.0,>=2.0.0 in /usr/local/lib/python3.7/dist-packages (from scikit-image->lungmask==0.2.11) (3.2.2)\n",
            "Requirement already satisfied: networkx>=2.0 in /usr/local/lib/python3.7/dist-packages (from scikit-image->lungmask==0.2.11) (2.6.3)\n",
            "Requirement already satisfied: imageio>=2.3.0 in /usr/local/lib/python3.7/dist-packages (from scikit-image->lungmask==0.2.11) (2.9.0)\n",
            "Requirement already satisfied: pillow!=7.1.0,!=7.1.1,>=4.3.0 in /usr/local/lib/python3.7/dist-packages (from scikit-image->lungmask==0.2.11) (9.2.0)\n",
            "Requirement already satisfied: tifffile>=2019.7.26 in /usr/local/lib/python3.7/dist-packages (from scikit-image->lungmask==0.2.11) (2021.11.2)\n",
            "Requirement already satisfied: PyWavelets>=1.1.1 in /usr/local/lib/python3.7/dist-packages (from scikit-image->lungmask==0.2.11) (1.3.0)\n",
            "Requirement already satisfied: python-dateutil>=2.1 in /usr/local/lib/python3.7/dist-packages (from matplotlib!=3.0.0,>=2.0.0->scikit-image->lungmask==0.2.11) (2.8.2)\n",
            "Requirement already satisfied: kiwisolver>=1.0.1 in /usr/local/lib/python3.7/dist-packages (from matplotlib!=3.0.0,>=2.0.0->scikit-image->lungmask==0.2.11) (1.4.4)\n",
            "Requirement already satisfied: pyparsing!=2.0.4,!=2.1.2,!=2.1.6,>=2.0.1 in /usr/local/lib/python3.7/dist-packages (from matplotlib!=3.0.0,>=2.0.0->scikit-image->lungmask==0.2.11) (3.0.9)\n",
            "Requirement already satisfied: cycler>=0.10 in /usr/local/lib/python3.7/dist-packages (from matplotlib!=3.0.0,>=2.0.0->scikit-image->lungmask==0.2.11) (0.11.0)\n",
            "Requirement already satisfied: typing-extensions in /usr/local/lib/python3.7/dist-packages (from kiwisolver>=1.0.1->matplotlib!=3.0.0,>=2.0.0->scikit-image->lungmask==0.2.11) (4.1.1)\n",
            "Requirement already satisfied: six>=1.5 in /usr/local/lib/python3.7/dist-packages (from python-dateutil>=2.1->matplotlib!=3.0.0,>=2.0.0->scikit-image->lungmask==0.2.11) (1.15.0)\n",
            "Building wheels for collected packages: lungmask\n",
            "  Building wheel for lungmask (setup.py) ... \u001b[?25l\u001b[?25hdone\n",
            "  Created wheel for lungmask: filename=lungmask-0.2.11-py3-none-any.whl size=17456 sha256=bc93974e6aba7677e35ceb09cf31c3f9c8481da22b5059e22a888f01ca67a984\n",
            "  Stored in directory: /tmp/pip-ephem-wheel-cache-0ctivuz8/wheels/b7/62/f7/fd172f57224a95cf73efec4a6029c8a78577dab75b949338d1\n",
            "Successfully built lungmask\n",
            "Installing collected packages: fastremap, fill-voids, lungmask\n",
            "Successfully installed fastremap-1.13.3 fill-voids-2.0.2 lungmask-0.2.11\n"
          ]
        }
      ]
    },
    {
      "cell_type": "code",
      "execution_count": 10,
      "metadata": {
        "id": "ouyEMRUbT64M"
      },
      "outputs": [],
      "source": [
        "%%bigquery --project=bwh-midrc-rapid-res-1655321320 ct_limited_open_a1_r1\n",
        "\n",
        "WITH\n",
        "  nlst_instances_per_series AS (\n",
        "    SELECT\n",
        "      DISTINCT(StudyInstanceUID),\n",
        "      SeriesInstanceUID,\n",
        "      COUNT(DISTINCT(SOPInstanceUID)) AS num_instances,\n",
        "      COUNT(DISTINCT(ARRAY_TO_STRING(ImagePositionPatient,\"/\"))) AS position_count,\n",
        "      COUNT(DISTINCT(ARRAY_TO_STRING(ImageOrientationPatient,\"/\"))) AS orientation_count,\n",
        "      MIN(SAFE_CAST(SliceThickness AS float64)) AS min_SliceThickness,\n",
        "      MAX(SAFE_CAST(SliceThickness AS float64)) AS max_SliceThickness,\n",
        "      MIN(SAFE_CAST(ImagePositionPatient[SAFE_OFFSET(2)] AS float64)) as min_SliceLocation, \n",
        "      MAX(SAFE_CAST(ImagePositionPatient[SAFE_OFFSET(2)] AS float64)) as max_SliceLocation,\n",
        "      STRING_AGG(DISTINCT(SAFE_CAST(\"LOCALIZER\" IN UNNEST(ImageType) AS string)),\"\") AS has_localizer\n",
        "    FROM\n",
        "      bwh-midrc-rapid-res-1655321320.midrc_dicom_us.dicom_all\n",
        "    WHERE\n",
        "      (collection_id = \"Open-R1\" or collection_id = \"Open-A1\") and Modality = \"CT\"\n",
        "    GROUP BY\n",
        "      StudyInstanceUID,\n",
        "      SeriesInstanceUID\n",
        "      ), \n",
        "  nlst_values_per_series AS (\n",
        "    SELECT \n",
        "    dicom_all.StudyInstanceUID AS StudyInstanceUID,\n",
        "    ANY_VALUE(dicom_all.PatientID) AS PatientID,\n",
        "    ANY_VALUE(dicom_all.SeriesInstanceUID) AS SeriesInstanceUID,\n",
        "    ANY_VALUE(nlst_instances_per_series.num_instances) AS num_instances,\n",
        "    ANY_VALUE(nlst_instances_per_series.max_SliceThickness) AS SliceThickness,\n",
        "    ANY_VALUE((nlst_instances_per_series.max_SliceLocation - nlst_instances_per_series.min_SliceLocation)) AS PatientHeightScanned\n",
        "  FROM\n",
        "    bwh-midrc-rapid-res-1655321320.midrc_dicom_us.dicom_all AS dicom_all\n",
        "  JOIN\n",
        "    nlst_instances_per_series\n",
        "  ON\n",
        "    dicom_all.SeriesInstanceUID = nlst_instances_per_series.SeriesInstanceUID\n",
        "  WHERE\n",
        "    min_SliceThickness >= 1.5 \n",
        "    AND max_SliceThickness <= 3.5 \n",
        "    AND nlst_instances_per_series.num_instances > 100\n",
        "    AND nlst_instances_per_series.num_instances/nlst_instances_per_series.position_count = 1\n",
        "    AND nlst_instances_per_series.orientation_count = 1\n",
        "    AND has_localizer = \"false\"\n",
        "  GROUP BY\n",
        "    StudyInstanceUID\n",
        "  )\n",
        "  SELECT \n",
        "    dicom_all.PatientID,\n",
        "    dicom_all.StudyInstanceUID,\n",
        "    dicom_all.SeriesInstanceUID,\n",
        "    dicom_all.SOPInstanceUID,\n",
        "    dicom_all.collection_id,\n",
        "    dicom_all.PatientAge,\n",
        "    dicom_all.PatientWeight,\n",
        "    nlst_values_per_series.num_instances,\n",
        "    nlst_values_per_series.SliceThickness,\n",
        "    nlst_values_per_series.PatientHeightScanned\n",
        "  FROM\n",
        "    bwh-midrc-rapid-res-1655321320.midrc_dicom_us.dicom_all AS dicom_all\n",
        "  JOIN\n",
        "    nlst_values_per_series \n",
        "  ON\n",
        "    dicom_all.SeriesInstanceUID = nlst_values_per_series.SeriesInstanceUID"
      ]
    },
    {
      "cell_type": "code",
      "source": [
        "from google.cloud import storage\n",
        "\n",
        "storage_client = storage.Client(project = project_name)\n",
        "#bucket = storage_client.get_bucket(bucket_name)\n",
        "\n",
        "series_instance_uids = []\n",
        "\n",
        "#blobs = storage_client.list_blobs(bucket)\n",
        "blobs = storage_client.list_blobs(bucket_name, prefix=bucket_path, delimiter='/')\n",
        "for blob in blobs:\n",
        "    bn = blob.name\n",
        "    bs = bn.split('.')\n",
        "    if bs[-1] == 'json':\n",
        "      bss = bn.split('/')[1]\n",
        "      bs3 = bss.split('.')\n",
        "      bs4 = '.'.join(bs3[:-1])\n",
        "      series_instance_uids.append(bs4)\n",
        "\n",
        "print(series_instance_uids[:10])"
      ],
      "metadata": {
        "colab": {
          "base_uri": "https://localhost:8080/"
        },
        "id": "9hEvqjcFUMoF",
        "outputId": "bd7e1e69-87b7-4c3b-fded-2716c32fc249"
      },
      "execution_count": 11,
      "outputs": [
        {
          "output_type": "stream",
          "name": "stdout",
          "text": [
            "['1.2.826.0.1.3680043.10.474.419639.105799060738901793068313281334', '1.2.826.0.1.3680043.10.474.419639.106364025147079899289440200715', '1.2.826.0.1.3680043.10.474.419639.149051607502633615235577977952', '1.2.826.0.1.3680043.10.474.419639.189346812051260775638656981947', '1.2.826.0.1.3680043.10.474.419639.192916356998524553834723357563', '1.2.826.0.1.3680043.10.474.419639.198735019931123383691750806063', '1.2.826.0.1.3680043.10.474.419639.249044315484665760654506668895', '1.2.826.0.1.3680043.10.474.419639.259584978733948574762940092562', '1.2.826.0.1.3680043.10.474.419639.269534881585852761235289087419', '1.2.826.0.1.3680043.10.474.419639.272117657178318732150423166273']\n"
          ]
        }
      ]
    },
    {
      "cell_type": "code",
      "source": [
        "print(len(series_instance_uids))"
      ],
      "metadata": {
        "colab": {
          "base_uri": "https://localhost:8080/"
        },
        "id": "sHEqz7uhwsq0",
        "outputId": "dd88b6d2-fcf8-4e57-a9b8-943b0fcf1637"
      },
      "execution_count": 12,
      "outputs": [
        {
          "output_type": "stream",
          "name": "stdout",
          "text": [
            "495\n"
          ]
        }
      ]
    },
    {
      "cell_type": "code",
      "source": [
        "df = ct_limited_open_a1_r1\n",
        "k=0\n",
        "\n",
        "good_seriesuids = []\n",
        "\n",
        "#series_instance_uids = ['1.2.826.0.1.3680043.10.474.419639.106364025147079899289440200715']\n",
        "\n",
        "for seriesuid in series_instance_uids:\n",
        "  #print(seriesuid)\n",
        "  studyuids = list(set(df[df['SeriesInstanceUID']==seriesuid]['StudyInstanceUID'].tolist()))\n",
        "  if len(studyuids)>0:\n",
        "    k=k+1\n",
        "    print(seriesuid)\n",
        "    studyuid = studyuids[0]\n",
        "    sops = df[ (df['StudyInstanceUID']==studyuid) & (df['SeriesInstanceUID']==seriesuid) ]['SOPInstanceUID'].tolist()\n",
        "    print(len(sops))\n",
        "    #download_series(studyuid, seriesuid, sops, path_downloaded)\n",
        "    good_seriesuids.append(seriesuid)\n",
        "print(k)"
      ],
      "metadata": {
        "colab": {
          "base_uri": "https://localhost:8080/"
        },
        "id": "4xxeSrvYoouz",
        "outputId": "9b1f7f38-a1c1-4a04-aa74-f4228fe0f482"
      },
      "execution_count": 13,
      "outputs": [
        {
          "output_type": "stream",
          "name": "stdout",
          "text": [
            "1.2.826.0.1.3680043.10.474.419639.105799060738901793068313281334\n",
            "178\n",
            "1.2.826.0.1.3680043.10.474.419639.106364025147079899289440200715\n",
            "180\n",
            "1.2.826.0.1.3680043.10.474.419639.192916356998524553834723357563\n",
            "111\n",
            "1.2.826.0.1.3680043.10.474.419639.198735019931123383691750806063\n",
            "184\n",
            "1.2.826.0.1.3680043.10.474.419639.269534881585852761235289087419\n",
            "262\n",
            "1.2.826.0.1.3680043.10.474.419639.272117657178318732150423166273\n",
            "194\n",
            "1.2.826.0.1.3680043.10.474.419639.334475370484806268089381726911\n",
            "206\n",
            "1.2.826.0.1.3680043.10.474.419639.336871778486950686179971404477\n",
            "271\n",
            "1.2.826.0.1.3680043.10.474.419639.337058107440810621229570649505\n",
            "194\n",
            "1.2.826.0.1.3680043.10.474.419639.337142866003655727331878751504\n",
            "114\n",
            "1.2.826.0.1.3680043.10.474.419639.939657231423501545181087708673\n",
            "658\n",
            "1.2.826.0.1.3680043.10.474.419639.995661493936010249470686852549\n",
            "106\n",
            "1.3.6.1.4.1.5962.99.1.1247991691.71736179.1616155726490.11471.0\n",
            "997\n",
            "1.3.6.1.4.1.5962.99.1.1247991691.71736179.1616155726490.1276.0\n",
            "209\n",
            "1.3.6.1.4.1.5962.99.1.1247991691.71736179.1616155726490.23030.0\n",
            "915\n",
            "1.3.6.1.4.1.5962.99.1.1247991691.71736179.1616155726490.25184.0\n",
            "262\n",
            "1.3.6.1.4.1.5962.99.1.1247991691.71736179.1616155726490.28030.0\n",
            "194\n",
            "1.3.6.1.4.1.5962.99.1.1247991691.71736179.1616155726490.29560.0\n",
            "115\n",
            "1.3.6.1.4.1.5962.99.1.3492129840.282517718.1618399864692.18221.0\n",
            "189\n",
            "1.3.6.1.4.1.5962.99.1.3492129840.282517718.1618399864692.26800.0\n",
            "199\n",
            "1.3.6.1.4.1.5962.99.1.3492129840.282517718.1618399864692.30810.0\n",
            "202\n",
            "1.3.6.1.4.1.5962.99.1.3492129840.282517718.1618399864692.46885.0\n",
            "252\n",
            "1.3.6.1.4.1.5962.99.1.3492129840.282517718.1618399864692.55004.0\n",
            "118\n",
            "1.3.6.1.4.1.5962.99.1.3492129840.282517718.1618866294295.1131.0\n",
            "153\n",
            "1.3.6.1.4.1.5962.99.1.3492129840.282517718.1618866294295.22933.0\n",
            "707\n",
            "1.3.6.1.4.1.5962.99.1.3492129840.282517718.1618866294295.26007.0\n",
            "143\n",
            "1.3.6.1.4.1.5962.99.1.3492129840.282517718.1618866294295.27039.0\n",
            "158\n",
            "1.3.6.1.4.1.5962.99.1.3492129840.282517718.1618866294295.30357.0\n",
            "301\n",
            "1.3.6.1.4.1.5962.99.1.3492129840.282517718.1618866294295.3891.0\n",
            "243\n",
            "1.3.6.1.4.1.5962.99.1.3492129840.282517718.1618866294295.41593.0\n",
            "123\n",
            "1.3.6.1.4.1.5962.99.1.3492129840.282517718.1618866294295.42451.0\n",
            "107\n",
            "1.3.6.1.4.1.5962.99.1.3492129840.282517718.1618866294295.48307.0\n",
            "187\n",
            "1.3.6.1.4.1.5962.99.1.3492129840.282517718.1618866294295.54902.0\n",
            "132\n",
            "1.3.6.1.4.1.5962.99.1.3492129840.282517718.1618953007798.1830.0\n",
            "205\n",
            "1.3.6.1.4.1.5962.99.1.3492129840.282517718.1618953007798.2457.0\n",
            "163\n",
            "2.16.840.1.114274.1818.46179271063633471186291093667913296034\n",
            "232\n",
            "2.16.840.1.114274.1818.46225151293702937998915675108450977715\n",
            "162\n",
            "2.16.840.1.114274.1818.462450314129229453818181193527113405319\n",
            "115\n",
            "2.16.840.1.114274.1818.462644714118954579917095872226762657175\n",
            "119\n",
            "2.16.840.1.114274.1818.462717550131907026012428658651919672486\n",
            "131\n",
            "2.16.840.1.114274.1818.462953083510307616214177293656347789191\n",
            "186\n",
            "2.16.840.1.114274.1818.46404887333509416294806128663330062005\n",
            "140\n",
            "2.16.840.1.114274.1818.464298902119855025313037655644472122293\n",
            "163\n",
            "2.16.840.1.114274.1818.46444934526701259642588252967068419712\n",
            "160\n",
            "2.16.840.1.114274.1818.464957875690980386717078488607016406713\n",
            "131\n",
            "2.16.840.1.114274.1818.466166602373358303711342270378928562304\n",
            "137\n",
            "2.16.840.1.114274.1818.46652472987550009305366336206019799966\n",
            "152\n",
            "2.16.840.1.114274.1818.466888250461612894412391730302431351205\n",
            "178\n",
            "2.16.840.1.114274.1818.467321874035362878613285735582088411541\n",
            "116\n",
            "2.16.840.1.114274.1818.467678040490148278621893013808238982\n",
            "139\n",
            "2.16.840.1.114274.1818.469154656858932924816687896770291586741\n",
            "233\n",
            "2.16.840.1.114274.1818.47227095810225539032366417379648623505\n",
            "175\n",
            "2.16.840.1.114274.1818.47242806682735491364635452432322248330\n",
            "123\n",
            "2.16.840.1.114274.1818.473005831999934400714213384731782124179\n",
            "157\n",
            "2.16.840.1.114274.1818.47345896179707423297865992460588138637\n",
            "162\n",
            "2.16.840.1.114274.1818.475640401344205421810252345911605969594\n",
            "149\n",
            "2.16.840.1.114274.1818.47795863475272337308803962475480315031\n",
            "167\n",
            "2.16.840.1.114274.1818.47798251185128468777727439224973165729\n",
            "143\n",
            "2.16.840.1.114274.1818.47897933876690793009812546949251648170\n",
            "321\n",
            "2.16.840.1.114274.1818.47949930993177147391782772768519856026\n",
            "178\n",
            "2.16.840.1.114274.1818.47972234260927788956350864595973247413\n",
            "218\n",
            "2.16.840.1.114274.1818.48065016937404115872194846231440252863\n",
            "209\n",
            "2.16.840.1.114274.1818.480794103468335191915398746922914947212\n",
            "122\n",
            "2.16.840.1.114274.1818.48106691416694035665985366388387965621\n",
            "150\n",
            "2.16.840.1.114274.1818.48125358657223901339160524540188392077\n",
            "212\n",
            "2.16.840.1.114274.1818.4853413292331390494453019478988373930\n",
            "178\n",
            "2.16.840.1.114274.1818.485455856172170770711857564567939949733\n",
            "151\n",
            "2.16.840.1.114274.1818.485989548157878981017144279815112475058\n",
            "209\n",
            "2.16.840.1.114274.1818.486084744244414387912751142953802349985\n",
            "172\n",
            "2.16.840.1.114274.1818.486770176547323832611218998429994878648\n",
            "158\n",
            "2.16.840.1.114274.1818.490895937670731406318088231044456142768\n",
            "239\n",
            "2.16.840.1.114274.1818.491644281206700900317863550428274697630\n",
            "126\n",
            "2.16.840.1.114274.1818.491693417478126345615325245096590299318\n",
            "128\n",
            "2.16.840.1.114274.1818.49194924400116585225271362852833609616\n",
            "204\n",
            "2.16.840.1.114274.1818.49303565429831490422405089988908520591\n",
            "207\n",
            "2.16.840.1.114274.1818.493039173865280939711513860696481623702\n",
            "128\n",
            "2.16.840.1.114274.1818.495260655127591795116013072947369220502\n",
            "146\n",
            "2.16.840.1.114274.1818.496230866410442595811353956494982522520\n",
            "156\n",
            "2.16.840.1.114274.1818.49636898898101285897673830769465771430\n",
            "139\n",
            "2.16.840.1.114274.1818.497895656941879705513923224733250248834\n",
            "125\n",
            "2.16.840.1.114274.1818.49790447278542124223944662934081301427\n",
            "123\n",
            "2.16.840.1.114274.1818.49804893439564133817368211804846472105\n",
            "193\n",
            "2.16.840.1.114274.1818.499105756157581115010629818143445976198\n",
            "293\n",
            "2.16.840.1.114274.1818.501775501571478639814571433403818063260\n",
            "189\n",
            "2.16.840.1.114274.1818.50197952948996671716968738948891134105\n",
            "178\n",
            "2.16.840.1.114274.1818.50212282578985792755137536320822104744\n",
            "171\n",
            "2.16.840.1.114274.1818.5061309625807200667432438570220108962\n",
            "143\n",
            "2.16.840.1.114274.1818.50663898379043862264468018559949619119\n",
            "130\n",
            "2.16.840.1.114274.1818.509252126052022110710541337041763433652\n",
            "179\n",
            "2.16.840.1.114274.1818.509356926968803538910950593316687280047\n",
            "145\n",
            "2.16.840.1.114274.1818.51018838705312686451005071347240339371\n",
            "105\n",
            "2.16.840.1.114274.1818.510405638219807964511059743269516202927\n",
            "108\n",
            "2.16.840.1.114274.1818.51191783759384712866655091017887683462\n",
            "113\n",
            "2.16.840.1.114274.1818.512094214089393238410278559133173710994\n",
            "181\n",
            "2.16.840.1.114274.1818.51225165114945462723310743216747083166\n",
            "118\n",
            "2.16.840.1.114274.1818.51365480467480929387770173601860215472\n",
            "141\n",
            "2.16.840.1.114274.1818.517743298763811024816004704094049631893\n",
            "173\n",
            "2.16.840.1.114274.1818.51794924426827948484032981738625118632\n",
            "368\n",
            "2.16.840.1.114274.1818.52039419750679182394752732751407763363\n",
            "143\n",
            "2.16.840.1.114274.1818.5204789342477522175253539574594153372\n",
            "101\n",
            "2.16.840.1.114274.1818.520926670793555443012074107652322125441\n",
            "218\n",
            "2.16.840.1.114274.1818.522141761582212841210871714952536698283\n",
            "160\n",
            "2.16.840.1.114274.1818.52215163796286804929622810143529522365\n",
            "185\n",
            "2.16.840.1.114274.1818.52217547124796481417460321479349554876\n",
            "193\n",
            "2.16.840.1.114274.1818.52399551930252532121779584145309740687\n",
            "133\n",
            "2.16.840.1.114274.1818.52614838040035571535495322016064104121\n",
            "155\n",
            "2.16.840.1.114274.1818.52627084067014710255515869139796991405\n",
            "179\n",
            "2.16.840.1.114274.1818.527861204159633714417570776829291395458\n",
            "132\n",
            "2.16.840.1.114274.1818.52920508399879677166305663063392748984\n",
            "445\n",
            "2.16.840.1.114274.1818.530355566135815305812048329232978251424\n",
            "132\n",
            "2.16.840.1.114274.1818.53053387282722816036336839742290626991\n",
            "211\n",
            "2.16.840.1.114274.1818.531147484764187080514467433189715276208\n",
            "148\n",
            "2.16.840.1.114274.1818.53442599617900237598387993388973794958\n",
            "180\n",
            "2.16.840.1.114274.1818.535664250010377384117237629388118280340\n",
            "190\n",
            "2.16.840.1.114274.1818.53661161123208893377592200971278627518\n",
            "297\n",
            "2.16.840.1.114274.1818.540645072501480777114842103441805959567\n",
            "202\n",
            "2.16.840.1.114274.1818.54116188861586417432398646119306107837\n",
            "196\n",
            "2.16.840.1.114274.1818.54275483796589139943459283700262935447\n",
            "163\n",
            "2.16.840.1.114274.1818.542880904686479047810693629593891645859\n",
            "119\n",
            "2.16.840.1.114274.1818.54368937193612837791934834858388337554\n",
            "132\n",
            "2.16.840.1.114274.1818.54631735060396452179468175082895138998\n",
            "170\n",
            "2.16.840.1.114274.1818.54647133892102688473891037207144266881\n",
            "158\n",
            "2.16.840.1.114274.1818.547220258253973437114161868273802978986\n",
            "109\n",
            "2.16.840.1.114274.1818.54726384977658412399373808189996310196\n",
            "199\n",
            "2.16.840.1.114274.1818.547302021407600958717813112951218306742\n",
            "176\n",
            "2.16.840.1.114274.1818.54761167298049576931063953764370507182\n",
            "136\n",
            "2.16.840.1.114274.1818.547824895436851406611576169989982808707\n",
            "182\n",
            "2.16.840.1.114274.1818.54802110343072558152702346959846932111\n",
            "138\n",
            "2.16.840.1.114274.1818.55137190988775911995832093596031113660\n",
            "200\n",
            "2.16.840.1.114274.1818.551792874165325086014798264954659841188\n",
            "118\n",
            "2.16.840.1.114274.1818.555427133630683036017017131589936719532\n",
            "135\n",
            "2.16.840.1.114274.1818.55572454000319270362400078581594353554\n",
            "125\n",
            "2.16.840.1.114274.1818.559880150955111369217965324845977665981\n",
            "200\n",
            "2.16.840.1.114274.1818.56065848524921294672761172044891568553\n",
            "128\n",
            "2.16.840.1.114274.1818.56192996650130204362000606250513079986\n",
            "204\n",
            "2.16.840.1.114274.1818.56511138420974727402168675178458310032\n",
            "120\n",
            "2.16.840.1.114274.1818.56563899272535079844931077154611967109\n",
            "337\n",
            "2.16.840.1.114274.1818.56755367596946500258834931395798424705\n",
            "243\n",
            "2.16.840.1.114274.1818.570693898973857755612938775752281693066\n",
            "194\n",
            "2.16.840.1.114274.1818.570739065944150072418423518997000791444\n",
            "136\n",
            "2.16.840.1.114274.1818.57211981760132792207335209373476832431\n",
            "123\n",
            "2.16.840.1.114274.1818.57243499240373787351132354722671978112\n",
            "843\n",
            "2.16.840.1.114274.1818.573245334636836867510574884806850915737\n",
            "176\n",
            "2.16.840.1.114274.1818.57469042117884761886611973342077825927\n",
            "161\n",
            "2.16.840.1.114274.1818.57636332238089745215203000703916637065\n",
            "107\n",
            "145\n"
          ]
        }
      ]
    },
    {
      "cell_type": "code",
      "source": [
        "path_downloaded = '/content/downloaded_data'\n",
        "#path_nifti = '/content/nifti_data'\n",
        "#path_json =  '/content/json_data'\n",
        "path_nrrd = '/content/nrrd_data'\n",
        "\n",
        "for x in [path_downloaded, path_nifti, path_json, path_nrrd]:\n",
        "  if os.path.isdir(x):\n",
        "    try:\n",
        "      shutil.rmtree(x)\n",
        "    except OSError as err:\n",
        "      print(\"Error: %s : %s\" % (x, err.strerror))  \n",
        "  os.mkdir(x)"
      ],
      "metadata": {
        "id": "w7r-64u0RM8A"
      },
      "execution_count": null,
      "outputs": []
    },
    {
      "cell_type": "code",
      "source": [
        "from lungmask import mask\n",
        "import SimpleITK as sitk\n",
        "\n",
        "input_image = sitk.ReadImage(/content/sorted_data/10000364-1546758/CT)"
      ],
      "metadata": {
        "id": "4oOt5Fhi5dCN"
      },
      "execution_count": null,
      "outputs": []
    },
    {
      "cell_type": "code",
      "source": [
        "import json\n",
        "\n",
        "#for pat in pat_list:\n",
        "#  pat_dir_path_json = os.path.join(json_directory, pat)\n",
        "  \n",
        "#  json_list = glob(os.path.join( pat_dir_path_json,'*.json'))\n",
        "#  print(len(json_list), 'files for this patient')\n",
        "\n",
        "jn = \"/content/2.16.840.1.114274.1818.504395315714442999311621620775113246374.json\"\n",
        "fileObject = open(jn, \"r\")\n",
        "jsonContent = fileObject.read()\n",
        "aList = json.loads(jsonContent)\n",
        "\n",
        "print(aList['body part examined'])\n",
        "\n",
        "jj = os.path.split(jn)\n",
        "jjp = jj[0] # path\n",
        "jjn = jj[1] # json file name\n",
        "bpfn = os.path.join(jjp, jjn.split('.')[0]+'_bodypart_regr.txt')\n",
        "\n",
        "f = open(bpfn,'w')\n",
        "for (bodypart, zlist) in aList['body part examined'].items():\n",
        "  #print(jn)\n",
        "  print(bodypart, zlist)\n",
        "  if (len(zlist)>0):\n",
        "    f.write(bodypart+'\\n')\n",
        "f.close()\n"
      ],
      "metadata": {
        "id": "IQY9dEfi_1GS",
        "colab": {
          "base_uri": "https://localhost:8080/"
        },
        "outputId": "893c50da-1dcb-47b3-e8e8-de940922b273"
      },
      "execution_count": null,
      "outputs": [
        {
          "output_type": "stream",
          "name": "stdout",
          "text": [
            "{'legs': [], 'pelvis': [], 'abdomen': [295.0, 296.0, 297.0, 298.0, 299.0, 300.0, 301.0, 302.0, 303.0, 304.0, 305.0, 306.0, 307.0, 308.0, 309.0, 310.0, 311.0, 312.0, 313.0, 314.0, 315.0, 316.0, 317.0, 318.0, 319.0, 320.0, 321.0, 322.0, 323.0, 324.0, 325.0, 326.0, 327.0, 328.0, 329.0, 330.0, 331.0, 332.0, 333.0, 334.0, 335.0, 336.0, 337.0, 338.0, 339.0, 340.0, 341.0, 342.0, 343.0, 344.0, 345.0, 346.0, 347.0, 348.0, 349.0, 350.0, 351.0, 352.0, 353.0, 354.0, 355.0, 356.0, 357.0, 358.0, 359.0, 360.0, 361.0, 362.0, 363.0, 364.0, 365.0, 366.0, 367.0, 368.0, 369.0, 370.0, 371.0, 372.0, 373.0, 374.0, 375.0, 376.0, 377.0, 378.0, 379.0, 380.0, 381.0, 382.0, 383.0, 384.0, 385.0, 386.0, 387.0, 388.0, 389.0, 390.0, 391.0, 392.0, 393.0, 394.0, 395.0, 396.0, 397.0, 398.0, 399.0, 400.0, 401.0, 402.0, 403.0, 404.0, 405.0, 406.0, 407.0, 408.0, 409.0, 410.0, 411.0, 412.0, 413.0, 414.0, 415.0, 416.0, 417.0, 418.0, 419.0, 420.0, 421.0, 422.0, 423.0, 424.0, 425.0, 426.0, 427.0, 428.0, 429.0, 430.0, 431.0, 432.0, 433.0, 434.0, 435.0, 436.0, 437.0, 438.0, 439.0, 440.0, 441.0, 442.0, 443.0, 444.0, 445.0, 446.0, 447.0, 448.0, 449.0, 450.0, 451.0, 452.0, 453.0, 454.0, 455.0, 456.0, 457.0, 458.0, 459.0, 460.0, 461.0, 462.0, 463.0, 464.0, 465.0, 466.0, 467.0, 468.0, 469.0, 470.0, 471.0, 472.0, 473.0, 474.0, 475.0, 476.0, 477.0, 478.0, 479.0, 480.0, 481.0, 482.0, 483.0, 484.0, 485.0, 486.0, 487.0, 488.0, 489.0, 490.0, 491.0, 492.0, 493.0, 494.0, 495.0, 496.0, 497.0, 498.0, 499.0, 500.0, 501.0, 502.0, 503.0, 504.0, 505.0, 506.0, 507.0, 508.0, 509.0, 510.0, 511.0, 512.0, 513.0, 514.0, 515.0, 516.0, 517.0, 518.0, 519.0, 520.0, 521.0, 522.0, 523.0, 524.0, 525.0, 526.0, 527.0, 528.0, 529.0, 530.0, 531.0, 532.0, 533.0, 534.0, 535.0, 536.0, 537.0, 538.0, 539.0, 540.0, 541.0, 542.0, 543.0, 544.0, 545.0, 546.0, 547.0, 548.0, 549.0, 550.0, 551.0, 552.0, 553.0, 554.0, 555.0, 556.0], 'chest': [32.0, 33.0, 34.0, 35.0, 36.0, 37.0, 38.0, 39.0, 40.0, 41.0, 42.0, 43.0, 44.0, 45.0, 46.0, 47.0, 48.0, 49.0, 50.0, 51.0, 52.0, 53.0, 54.0, 55.0, 56.0, 57.0, 58.0, 59.0, 60.0, 61.0, 62.0, 63.0, 64.0, 65.0, 66.0, 67.0, 68.0, 69.0, 70.0, 71.0, 72.0, 73.0, 74.0, 75.0, 76.0, 77.0, 78.0, 79.0, 80.0, 81.0, 82.0, 83.0, 84.0, 85.0, 86.0, 87.0, 88.0, 89.0, 90.0, 91.0, 92.0, 93.0, 94.0, 95.0, 96.0, 97.0, 98.0, 99.0, 100.0, 101.0, 102.0, 103.0, 104.0, 105.0, 106.0, 107.0, 108.0, 109.0, 110.0, 111.0, 112.0, 113.0, 114.0, 115.0, 116.0, 117.0, 118.0, 119.0, 120.0, 121.0, 122.0, 123.0, 124.0, 125.0, 126.0, 127.0, 128.0, 129.0, 130.0, 131.0, 132.0, 133.0, 134.0, 135.0, 136.0, 137.0, 138.0, 139.0, 140.0, 141.0, 142.0, 143.0, 144.0, 145.0, 146.0, 147.0, 148.0, 149.0, 150.0, 151.0, 152.0, 153.0, 154.0, 155.0, 156.0, 157.0, 158.0, 159.0, 160.0, 161.0, 162.0, 163.0, 164.0, 165.0, 166.0, 167.0, 168.0, 169.0, 170.0, 171.0, 172.0, 173.0, 174.0, 175.0, 176.0, 177.0, 178.0, 179.0, 180.0, 181.0, 182.0, 183.0, 184.0, 185.0, 186.0, 187.0, 188.0, 189.0, 190.0, 191.0, 192.0, 193.0, 194.0, 195.0, 196.0, 197.0, 198.0, 199.0, 200.0, 201.0, 202.0, 203.0, 204.0, 205.0, 206.0, 207.0, 208.0, 209.0, 210.0, 211.0, 212.0, 213.0, 214.0, 215.0, 216.0, 217.0, 218.0, 219.0, 220.0, 221.0, 222.0, 223.0, 224.0, 225.0, 226.0, 227.0, 228.0, 229.0, 230.0, 231.0, 232.0, 233.0, 234.0, 235.0, 236.0, 237.0, 238.0, 239.0, 240.0, 241.0, 242.0, 243.0, 244.0, 245.0, 246.0, 247.0, 248.0, 249.0, 250.0, 251.0, 252.0, 253.0, 254.0, 255.0, 256.0, 257.0, 258.0, 259.0, 260.0, 261.0, 262.0, 263.0, 264.0, 265.0, 266.0, 267.0, 268.0, 269.0, 270.0, 271.0, 272.0, 273.0, 274.0, 275.0, 276.0, 277.0, 278.0, 279.0, 280.0, 281.0, 282.0, 283.0, 284.0, 285.0, 286.0, 287.0, 288.0, 289.0, 290.0, 291.0, 292.0, 293.0, 294.0, 295.0, 296.0, 297.0, 298.0, 299.0, 300.0, 301.0, 302.0, 303.0, 304.0, 305.0, 306.0, 307.0, 308.0, 309.0, 310.0, 311.0, 312.0, 313.0, 314.0, 315.0, 316.0, 317.0, 318.0, 319.0, 320.0, 321.0, 322.0, 323.0, 324.0, 325.0, 326.0, 327.0, 328.0, 329.0, 330.0, 331.0, 332.0, 333.0, 334.0, 335.0, 336.0, 337.0, 338.0, 339.0, 340.0, 341.0, 342.0, 343.0, 344.0, 345.0, 346.0, 347.0, 348.0, 349.0, 350.0, 351.0, 352.0, 353.0, 354.0, 355.0, 356.0, 357.0, 358.0, 359.0, 360.0, 361.0, 362.0, 363.0, 364.0, 365.0, 366.0, 367.0, 368.0, 369.0, 370.0, 371.0, 372.0, 373.0, 374.0, 375.0, 376.0, 377.0, 378.0, 379.0, 380.0, 381.0, 382.0, 383.0, 384.0, 385.0, 386.0, 387.0, 388.0, 389.0, 390.0, 391.0, 392.0, 393.0, 394.0, 395.0, 396.0, 397.0, 398.0, 399.0, 400.0, 401.0, 402.0, 403.0, 404.0, 405.0, 406.0, 407.0, 408.0, 409.0, 410.0, 411.0, 412.0, 413.0, 414.0, 415.0, 416.0, 417.0, 418.0, 419.0, 420.0, 421.0, 422.0, 423.0, 424.0, 425.0, 426.0, 427.0, 428.0, 429.0, 430.0, 431.0, 432.0, 433.0, 434.0, 435.0, 436.0, 437.0, 438.0, 439.0, 440.0, 441.0, 442.0, 443.0, 444.0, 445.0, 446.0, 447.0, 448.0, 449.0, 450.0, 451.0, 452.0, 453.0, 454.0, 455.0, 456.0, 457.0, 458.0, 459.0, 460.0, 461.0, 462.0, 463.0, 464.0, 465.0, 466.0, 467.0, 468.0, 469.0, 470.0, 471.0, 472.0, 473.0, 474.0, 475.0, 476.0, 477.0, 478.0, 479.0, 480.0, 481.0, 482.0, 483.0, 484.0, 485.0, 486.0, 487.0, 488.0, 489.0, 490.0, 491.0, 492.0, 493.0, 494.0, 495.0, 496.0], 'shoulder-neck': [2.0, 3.0, 4.0, 5.0, 6.0, 7.0, 8.0, 9.0, 10.0, 11.0, 12.0, 13.0, 14.0, 15.0, 16.0, 17.0, 18.0, 19.0, 20.0, 21.0, 22.0, 23.0, 24.0, 25.0, 26.0, 27.0, 28.0, 29.0, 30.0, 31.0, 32.0, 33.0, 34.0, 35.0, 36.0, 37.0, 38.0, 39.0, 40.0, 41.0, 42.0, 43.0, 44.0, 45.0, 46.0, 47.0, 48.0, 49.0, 50.0, 51.0, 52.0, 53.0, 54.0, 55.0, 56.0, 57.0, 58.0, 59.0, 60.0, 61.0, 62.0, 63.0, 64.0, 65.0, 66.0, 67.0, 68.0, 69.0, 70.0, 71.0, 72.0, 73.0, 74.0, 75.0, 76.0, 77.0, 78.0, 79.0, 80.0, 81.0, 82.0, 83.0, 84.0, 85.0, 86.0, 87.0, 88.0, 89.0, 90.0, 91.0, 92.0, 93.0, 94.0, 95.0, 96.0, 97.0, 98.0, 99.0, 100.0], 'head': []}\n",
            "legs []\n",
            "pelvis []\n",
            "abdomen [295.0, 296.0, 297.0, 298.0, 299.0, 300.0, 301.0, 302.0, 303.0, 304.0, 305.0, 306.0, 307.0, 308.0, 309.0, 310.0, 311.0, 312.0, 313.0, 314.0, 315.0, 316.0, 317.0, 318.0, 319.0, 320.0, 321.0, 322.0, 323.0, 324.0, 325.0, 326.0, 327.0, 328.0, 329.0, 330.0, 331.0, 332.0, 333.0, 334.0, 335.0, 336.0, 337.0, 338.0, 339.0, 340.0, 341.0, 342.0, 343.0, 344.0, 345.0, 346.0, 347.0, 348.0, 349.0, 350.0, 351.0, 352.0, 353.0, 354.0, 355.0, 356.0, 357.0, 358.0, 359.0, 360.0, 361.0, 362.0, 363.0, 364.0, 365.0, 366.0, 367.0, 368.0, 369.0, 370.0, 371.0, 372.0, 373.0, 374.0, 375.0, 376.0, 377.0, 378.0, 379.0, 380.0, 381.0, 382.0, 383.0, 384.0, 385.0, 386.0, 387.0, 388.0, 389.0, 390.0, 391.0, 392.0, 393.0, 394.0, 395.0, 396.0, 397.0, 398.0, 399.0, 400.0, 401.0, 402.0, 403.0, 404.0, 405.0, 406.0, 407.0, 408.0, 409.0, 410.0, 411.0, 412.0, 413.0, 414.0, 415.0, 416.0, 417.0, 418.0, 419.0, 420.0, 421.0, 422.0, 423.0, 424.0, 425.0, 426.0, 427.0, 428.0, 429.0, 430.0, 431.0, 432.0, 433.0, 434.0, 435.0, 436.0, 437.0, 438.0, 439.0, 440.0, 441.0, 442.0, 443.0, 444.0, 445.0, 446.0, 447.0, 448.0, 449.0, 450.0, 451.0, 452.0, 453.0, 454.0, 455.0, 456.0, 457.0, 458.0, 459.0, 460.0, 461.0, 462.0, 463.0, 464.0, 465.0, 466.0, 467.0, 468.0, 469.0, 470.0, 471.0, 472.0, 473.0, 474.0, 475.0, 476.0, 477.0, 478.0, 479.0, 480.0, 481.0, 482.0, 483.0, 484.0, 485.0, 486.0, 487.0, 488.0, 489.0, 490.0, 491.0, 492.0, 493.0, 494.0, 495.0, 496.0, 497.0, 498.0, 499.0, 500.0, 501.0, 502.0, 503.0, 504.0, 505.0, 506.0, 507.0, 508.0, 509.0, 510.0, 511.0, 512.0, 513.0, 514.0, 515.0, 516.0, 517.0, 518.0, 519.0, 520.0, 521.0, 522.0, 523.0, 524.0, 525.0, 526.0, 527.0, 528.0, 529.0, 530.0, 531.0, 532.0, 533.0, 534.0, 535.0, 536.0, 537.0, 538.0, 539.0, 540.0, 541.0, 542.0, 543.0, 544.0, 545.0, 546.0, 547.0, 548.0, 549.0, 550.0, 551.0, 552.0, 553.0, 554.0, 555.0, 556.0]\n",
            "chest [32.0, 33.0, 34.0, 35.0, 36.0, 37.0, 38.0, 39.0, 40.0, 41.0, 42.0, 43.0, 44.0, 45.0, 46.0, 47.0, 48.0, 49.0, 50.0, 51.0, 52.0, 53.0, 54.0, 55.0, 56.0, 57.0, 58.0, 59.0, 60.0, 61.0, 62.0, 63.0, 64.0, 65.0, 66.0, 67.0, 68.0, 69.0, 70.0, 71.0, 72.0, 73.0, 74.0, 75.0, 76.0, 77.0, 78.0, 79.0, 80.0, 81.0, 82.0, 83.0, 84.0, 85.0, 86.0, 87.0, 88.0, 89.0, 90.0, 91.0, 92.0, 93.0, 94.0, 95.0, 96.0, 97.0, 98.0, 99.0, 100.0, 101.0, 102.0, 103.0, 104.0, 105.0, 106.0, 107.0, 108.0, 109.0, 110.0, 111.0, 112.0, 113.0, 114.0, 115.0, 116.0, 117.0, 118.0, 119.0, 120.0, 121.0, 122.0, 123.0, 124.0, 125.0, 126.0, 127.0, 128.0, 129.0, 130.0, 131.0, 132.0, 133.0, 134.0, 135.0, 136.0, 137.0, 138.0, 139.0, 140.0, 141.0, 142.0, 143.0, 144.0, 145.0, 146.0, 147.0, 148.0, 149.0, 150.0, 151.0, 152.0, 153.0, 154.0, 155.0, 156.0, 157.0, 158.0, 159.0, 160.0, 161.0, 162.0, 163.0, 164.0, 165.0, 166.0, 167.0, 168.0, 169.0, 170.0, 171.0, 172.0, 173.0, 174.0, 175.0, 176.0, 177.0, 178.0, 179.0, 180.0, 181.0, 182.0, 183.0, 184.0, 185.0, 186.0, 187.0, 188.0, 189.0, 190.0, 191.0, 192.0, 193.0, 194.0, 195.0, 196.0, 197.0, 198.0, 199.0, 200.0, 201.0, 202.0, 203.0, 204.0, 205.0, 206.0, 207.0, 208.0, 209.0, 210.0, 211.0, 212.0, 213.0, 214.0, 215.0, 216.0, 217.0, 218.0, 219.0, 220.0, 221.0, 222.0, 223.0, 224.0, 225.0, 226.0, 227.0, 228.0, 229.0, 230.0, 231.0, 232.0, 233.0, 234.0, 235.0, 236.0, 237.0, 238.0, 239.0, 240.0, 241.0, 242.0, 243.0, 244.0, 245.0, 246.0, 247.0, 248.0, 249.0, 250.0, 251.0, 252.0, 253.0, 254.0, 255.0, 256.0, 257.0, 258.0, 259.0, 260.0, 261.0, 262.0, 263.0, 264.0, 265.0, 266.0, 267.0, 268.0, 269.0, 270.0, 271.0, 272.0, 273.0, 274.0, 275.0, 276.0, 277.0, 278.0, 279.0, 280.0, 281.0, 282.0, 283.0, 284.0, 285.0, 286.0, 287.0, 288.0, 289.0, 290.0, 291.0, 292.0, 293.0, 294.0, 295.0, 296.0, 297.0, 298.0, 299.0, 300.0, 301.0, 302.0, 303.0, 304.0, 305.0, 306.0, 307.0, 308.0, 309.0, 310.0, 311.0, 312.0, 313.0, 314.0, 315.0, 316.0, 317.0, 318.0, 319.0, 320.0, 321.0, 322.0, 323.0, 324.0, 325.0, 326.0, 327.0, 328.0, 329.0, 330.0, 331.0, 332.0, 333.0, 334.0, 335.0, 336.0, 337.0, 338.0, 339.0, 340.0, 341.0, 342.0, 343.0, 344.0, 345.0, 346.0, 347.0, 348.0, 349.0, 350.0, 351.0, 352.0, 353.0, 354.0, 355.0, 356.0, 357.0, 358.0, 359.0, 360.0, 361.0, 362.0, 363.0, 364.0, 365.0, 366.0, 367.0, 368.0, 369.0, 370.0, 371.0, 372.0, 373.0, 374.0, 375.0, 376.0, 377.0, 378.0, 379.0, 380.0, 381.0, 382.0, 383.0, 384.0, 385.0, 386.0, 387.0, 388.0, 389.0, 390.0, 391.0, 392.0, 393.0, 394.0, 395.0, 396.0, 397.0, 398.0, 399.0, 400.0, 401.0, 402.0, 403.0, 404.0, 405.0, 406.0, 407.0, 408.0, 409.0, 410.0, 411.0, 412.0, 413.0, 414.0, 415.0, 416.0, 417.0, 418.0, 419.0, 420.0, 421.0, 422.0, 423.0, 424.0, 425.0, 426.0, 427.0, 428.0, 429.0, 430.0, 431.0, 432.0, 433.0, 434.0, 435.0, 436.0, 437.0, 438.0, 439.0, 440.0, 441.0, 442.0, 443.0, 444.0, 445.0, 446.0, 447.0, 448.0, 449.0, 450.0, 451.0, 452.0, 453.0, 454.0, 455.0, 456.0, 457.0, 458.0, 459.0, 460.0, 461.0, 462.0, 463.0, 464.0, 465.0, 466.0, 467.0, 468.0, 469.0, 470.0, 471.0, 472.0, 473.0, 474.0, 475.0, 476.0, 477.0, 478.0, 479.0, 480.0, 481.0, 482.0, 483.0, 484.0, 485.0, 486.0, 487.0, 488.0, 489.0, 490.0, 491.0, 492.0, 493.0, 494.0, 495.0, 496.0]\n",
            "shoulder-neck [2.0, 3.0, 4.0, 5.0, 6.0, 7.0, 8.0, 9.0, 10.0, 11.0, 12.0, 13.0, 14.0, 15.0, 16.0, 17.0, 18.0, 19.0, 20.0, 21.0, 22.0, 23.0, 24.0, 25.0, 26.0, 27.0, 28.0, 29.0, 30.0, 31.0, 32.0, 33.0, 34.0, 35.0, 36.0, 37.0, 38.0, 39.0, 40.0, 41.0, 42.0, 43.0, 44.0, 45.0, 46.0, 47.0, 48.0, 49.0, 50.0, 51.0, 52.0, 53.0, 54.0, 55.0, 56.0, 57.0, 58.0, 59.0, 60.0, 61.0, 62.0, 63.0, 64.0, 65.0, 66.0, 67.0, 68.0, 69.0, 70.0, 71.0, 72.0, 73.0, 74.0, 75.0, 76.0, 77.0, 78.0, 79.0, 80.0, 81.0, 82.0, 83.0, 84.0, 85.0, 86.0, 87.0, 88.0, 89.0, 90.0, 91.0, 92.0, 93.0, 94.0, 95.0, 96.0, 97.0, 98.0, 99.0, 100.0]\n",
            "head []\n"
          ]
        }
      ]
    },
    {
      "cell_type": "code",
      "source": [
        "!rm -rf /content/downloaded_data//"
      ],
      "metadata": {
        "id": "SE5f0hFZkQ8o"
      },
      "execution_count": null,
      "outputs": []
    }
  ]
}