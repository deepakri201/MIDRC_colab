{
  "nbformat": 4,
  "nbformat_minor": 0,
  "metadata": {
    "colab": {
      "provenance": []
    },
    "kernelspec": {
      "name": "python3",
      "display_name": "Python 3"
    },
    "language_info": {
      "name": "python"
    }
  },
  "cells": [
    {
      "cell_type": "code",
      "source": [
        "!gcloud config set project  bwh-midrc-rapid-res-1655321320"
      ],
      "metadata": {
        "id": "QZr5-mEOOxyC",
        "colab": {
          "base_uri": "https://localhost:8080/"
        },
        "outputId": "441c27aa-75d1-4e2d-db60-a6eae7dc727f"
      },
      "execution_count": 1,
      "outputs": [
        {
          "output_type": "stream",
          "name": "stdout",
          "text": [
            "Updated property [core/project].\n"
          ]
        }
      ]
    },
    {
      "cell_type": "code",
      "execution_count": 2,
      "metadata": {
        "id": "3Kk0d3lMmDp3"
      },
      "outputs": [],
      "source": [
        "from google.colab import auth\n",
        "auth.authenticate_user()"
      ]
    },
    {
      "cell_type": "code",
      "execution_count": 3,
      "metadata": {
        "id": "bbM0Cf_94rqz"
      },
      "outputs": [],
      "source": [
        "  project_name = \"bwh-midrc-rapid-res-1655321320\"\n",
        "  bucket_name = \"midrc-analysis-bwh\"\n",
        "  bucket_path = \"bpr-results\""
      ]
    },
    {
      "cell_type": "markdown",
      "metadata": {
        "id": "pjQ88PgUTFkX"
      },
      "source": [
        "**Install BodyPartRegression package**"
      ]
    },
    {
      "cell_type": "code",
      "execution_count": 4,
      "metadata": {
        "colab": {
          "base_uri": "https://localhost:8080/"
        },
        "id": "64PiMsLhibpM",
        "outputId": "bf6b6db5-82d5-46eb-be14-1dfaad8f9fb0"
      },
      "outputs": [
        {
          "output_type": "stream",
          "name": "stdout",
          "text": [
            "Looking in indexes: https://pypi.org/simple, https://us-python.pkg.dev/colab-wheels/public/simple/\n",
            "Requirement already satisfied: torch==1.8.1 in /usr/local/lib/python3.7/dist-packages (1.8.1)\n",
            "Requirement already satisfied: pytorch-lightning==1.2.10 in /usr/local/lib/python3.7/dist-packages (1.2.10)\n",
            "Requirement already satisfied: torchtext==0.9.1 in /usr/local/lib/python3.7/dist-packages (0.9.1)\n",
            "Requirement already satisfied: torchvision==0.9.1 in /usr/local/lib/python3.7/dist-packages (0.9.1)\n",
            "Requirement already satisfied: torchaudio==0.8.1 in /usr/local/lib/python3.7/dist-packages (0.8.1)\n",
            "Requirement already satisfied: dataclasses==0.6 in /usr/local/lib/python3.7/dist-packages (0.6)\n",
            "Requirement already satisfied: typing-extensions in /usr/local/lib/python3.7/dist-packages (from torch==1.8.1) (4.1.1)\n",
            "Requirement already satisfied: numpy in /usr/local/lib/python3.7/dist-packages (from torch==1.8.1) (1.21.5)\n",
            "Requirement already satisfied: tensorboard!=2.5.0,>=2.2.0 in /usr/local/lib/python3.7/dist-packages (from pytorch-lightning==1.2.10) (2.9.1)\n",
            "Requirement already satisfied: packaging in /usr/local/lib/python3.7/dist-packages (from pytorch-lightning==1.2.10) (21.3)\n",
            "Requirement already satisfied: fsspec[http]>=0.8.1 in /usr/local/lib/python3.7/dist-packages (from pytorch-lightning==1.2.10) (2022.10.0)\n",
            "Requirement already satisfied: torchmetrics==0.2.0 in /usr/local/lib/python3.7/dist-packages (from pytorch-lightning==1.2.10) (0.2.0)\n",
            "Requirement already satisfied: future>=0.17.1 in /usr/local/lib/python3.7/dist-packages (from pytorch-lightning==1.2.10) (0.18.2)\n",
            "Requirement already satisfied: PyYAML!=5.4.*,>=5.1 in /usr/local/lib/python3.7/dist-packages (from pytorch-lightning==1.2.10) (6.0)\n",
            "Requirement already satisfied: tqdm>=4.41.0 in /usr/local/lib/python3.7/dist-packages (from pytorch-lightning==1.2.10) (4.64.1)\n",
            "Requirement already satisfied: requests in /usr/local/lib/python3.7/dist-packages (from torchtext==0.9.1) (2.23.0)\n",
            "Requirement already satisfied: pillow>=4.1.1 in /usr/local/lib/python3.7/dist-packages (from torchvision==0.9.1) (9.3.0)\n",
            "Requirement already satisfied: aiohttp!=4.0.0a0,!=4.0.0a1 in /usr/local/lib/python3.7/dist-packages (from fsspec[http]>=0.8.1->pytorch-lightning==1.2.10) (3.8.3)\n",
            "Requirement already satisfied: yarl<2.0,>=1.0 in /usr/local/lib/python3.7/dist-packages (from aiohttp!=4.0.0a0,!=4.0.0a1->fsspec[http]>=0.8.1->pytorch-lightning==1.2.10) (1.8.1)\n",
            "Requirement already satisfied: asynctest==0.13.0 in /usr/local/lib/python3.7/dist-packages (from aiohttp!=4.0.0a0,!=4.0.0a1->fsspec[http]>=0.8.1->pytorch-lightning==1.2.10) (0.13.0)\n",
            "Requirement already satisfied: async-timeout<5.0,>=4.0.0a3 in /usr/local/lib/python3.7/dist-packages (from aiohttp!=4.0.0a0,!=4.0.0a1->fsspec[http]>=0.8.1->pytorch-lightning==1.2.10) (4.0.2)\n",
            "Requirement already satisfied: aiosignal>=1.1.2 in /usr/local/lib/python3.7/dist-packages (from aiohttp!=4.0.0a0,!=4.0.0a1->fsspec[http]>=0.8.1->pytorch-lightning==1.2.10) (1.2.0)\n",
            "Requirement already satisfied: attrs>=17.3.0 in /usr/local/lib/python3.7/dist-packages (from aiohttp!=4.0.0a0,!=4.0.0a1->fsspec[http]>=0.8.1->pytorch-lightning==1.2.10) (22.1.0)\n",
            "Requirement already satisfied: multidict<7.0,>=4.5 in /usr/local/lib/python3.7/dist-packages (from aiohttp!=4.0.0a0,!=4.0.0a1->fsspec[http]>=0.8.1->pytorch-lightning==1.2.10) (6.0.2)\n",
            "Requirement already satisfied: frozenlist>=1.1.1 in /usr/local/lib/python3.7/dist-packages (from aiohttp!=4.0.0a0,!=4.0.0a1->fsspec[http]>=0.8.1->pytorch-lightning==1.2.10) (1.3.1)\n",
            "Requirement already satisfied: charset-normalizer<3.0,>=2.0 in /usr/local/lib/python3.7/dist-packages (from aiohttp!=4.0.0a0,!=4.0.0a1->fsspec[http]>=0.8.1->pytorch-lightning==1.2.10) (2.1.1)\n",
            "Requirement already satisfied: wheel>=0.26 in /usr/local/lib/python3.7/dist-packages (from tensorboard!=2.5.0,>=2.2.0->pytorch-lightning==1.2.10) (0.37.1)\n",
            "Requirement already satisfied: grpcio>=1.24.3 in /usr/local/lib/python3.7/dist-packages (from tensorboard!=2.5.0,>=2.2.0->pytorch-lightning==1.2.10) (1.50.0)\n",
            "Requirement already satisfied: tensorboard-plugin-wit>=1.6.0 in /usr/local/lib/python3.7/dist-packages (from tensorboard!=2.5.0,>=2.2.0->pytorch-lightning==1.2.10) (1.8.1)\n",
            "Requirement already satisfied: tensorboard-data-server<0.7.0,>=0.6.0 in /usr/local/lib/python3.7/dist-packages (from tensorboard!=2.5.0,>=2.2.0->pytorch-lightning==1.2.10) (0.6.1)\n",
            "Requirement already satisfied: setuptools>=41.0.0 in /usr/local/lib/python3.7/dist-packages (from tensorboard!=2.5.0,>=2.2.0->pytorch-lightning==1.2.10) (57.4.0)\n",
            "Requirement already satisfied: werkzeug>=1.0.1 in /usr/local/lib/python3.7/dist-packages (from tensorboard!=2.5.0,>=2.2.0->pytorch-lightning==1.2.10) (1.0.1)\n",
            "Requirement already satisfied: absl-py>=0.4 in /usr/local/lib/python3.7/dist-packages (from tensorboard!=2.5.0,>=2.2.0->pytorch-lightning==1.2.10) (1.3.0)\n",
            "Requirement already satisfied: google-auth<3,>=1.6.3 in /usr/local/lib/python3.7/dist-packages (from tensorboard!=2.5.0,>=2.2.0->pytorch-lightning==1.2.10) (1.35.0)\n",
            "Requirement already satisfied: markdown>=2.6.8 in /usr/local/lib/python3.7/dist-packages (from tensorboard!=2.5.0,>=2.2.0->pytorch-lightning==1.2.10) (3.4.1)\n",
            "Requirement already satisfied: google-auth-oauthlib<0.5,>=0.4.1 in /usr/local/lib/python3.7/dist-packages (from tensorboard!=2.5.0,>=2.2.0->pytorch-lightning==1.2.10) (0.4.6)\n",
            "Requirement already satisfied: protobuf<3.20,>=3.9.2 in /usr/local/lib/python3.7/dist-packages (from tensorboard!=2.5.0,>=2.2.0->pytorch-lightning==1.2.10) (3.17.3)\n",
            "Requirement already satisfied: cachetools<5.0,>=2.0.0 in /usr/local/lib/python3.7/dist-packages (from google-auth<3,>=1.6.3->tensorboard!=2.5.0,>=2.2.0->pytorch-lightning==1.2.10) (4.2.4)\n",
            "Requirement already satisfied: pyasn1-modules>=0.2.1 in /usr/local/lib/python3.7/dist-packages (from google-auth<3,>=1.6.3->tensorboard!=2.5.0,>=2.2.0->pytorch-lightning==1.2.10) (0.2.8)\n",
            "Requirement already satisfied: rsa<5,>=3.1.4 in /usr/local/lib/python3.7/dist-packages (from google-auth<3,>=1.6.3->tensorboard!=2.5.0,>=2.2.0->pytorch-lightning==1.2.10) (4.9)\n",
            "Requirement already satisfied: six>=1.9.0 in /usr/local/lib/python3.7/dist-packages (from google-auth<3,>=1.6.3->tensorboard!=2.5.0,>=2.2.0->pytorch-lightning==1.2.10) (1.15.0)\n",
            "Requirement already satisfied: requests-oauthlib>=0.7.0 in /usr/local/lib/python3.7/dist-packages (from google-auth-oauthlib<0.5,>=0.4.1->tensorboard!=2.5.0,>=2.2.0->pytorch-lightning==1.2.10) (1.3.1)\n",
            "Requirement already satisfied: importlib-metadata>=4.4 in /usr/local/lib/python3.7/dist-packages (from markdown>=2.6.8->tensorboard!=2.5.0,>=2.2.0->pytorch-lightning==1.2.10) (4.13.0)\n",
            "Requirement already satisfied: zipp>=0.5 in /usr/local/lib/python3.7/dist-packages (from importlib-metadata>=4.4->markdown>=2.6.8->tensorboard!=2.5.0,>=2.2.0->pytorch-lightning==1.2.10) (3.10.0)\n",
            "Requirement already satisfied: pyasn1<0.5.0,>=0.4.6 in /usr/local/lib/python3.7/dist-packages (from pyasn1-modules>=0.2.1->google-auth<3,>=1.6.3->tensorboard!=2.5.0,>=2.2.0->pytorch-lightning==1.2.10) (0.4.8)\n",
            "Requirement already satisfied: chardet<4,>=3.0.2 in /usr/local/lib/python3.7/dist-packages (from requests->torchtext==0.9.1) (3.0.4)\n",
            "Requirement already satisfied: idna<3,>=2.5 in /usr/local/lib/python3.7/dist-packages (from requests->torchtext==0.9.1) (2.10)\n",
            "Requirement already satisfied: certifi>=2017.4.17 in /usr/local/lib/python3.7/dist-packages (from requests->torchtext==0.9.1) (2022.9.24)\n",
            "Requirement already satisfied: urllib3!=1.25.0,!=1.25.1,<1.26,>=1.21.1 in /usr/local/lib/python3.7/dist-packages (from requests->torchtext==0.9.1) (1.24.3)\n",
            "Requirement already satisfied: oauthlib>=3.0.0 in /usr/local/lib/python3.7/dist-packages (from requests-oauthlib>=0.7.0->google-auth-oauthlib<0.5,>=0.4.1->tensorboard!=2.5.0,>=2.2.0->pytorch-lightning==1.2.10) (3.2.2)\n",
            "Requirement already satisfied: pyparsing!=3.0.5,>=2.0.2 in /usr/local/lib/python3.7/dist-packages (from packaging->pytorch-lightning==1.2.10) (3.0.9)\n",
            "Looking in indexes: https://pypi.org/simple, https://us-python.pkg.dev/colab-wheels/public/simple/\n",
            "Requirement already satisfied: bpreg in /usr/local/lib/python3.7/dist-packages (1.1.0)\n",
            "Requirement already satisfied: pytorch-lightning==1.2.10 in /usr/local/lib/python3.7/dist-packages (from bpreg) (1.2.10)\n",
            "Requirement already satisfied: scipy==1.7.0 in /usr/local/lib/python3.7/dist-packages (from bpreg) (1.7.0)\n",
            "Requirement already satisfied: nibabel==3.2.1 in /usr/local/lib/python3.7/dist-packages (from bpreg) (3.2.1)\n",
            "Requirement already satisfied: albumentations==0.5.2 in /usr/local/lib/python3.7/dist-packages (from bpreg) (0.5.2)\n",
            "Requirement already satisfied: torch==1.8.1 in /usr/local/lib/python3.7/dist-packages (from bpreg) (1.8.1)\n",
            "Requirement already satisfied: pandas==1.2.1 in /usr/local/lib/python3.7/dist-packages (from bpreg) (1.2.1)\n",
            "Requirement already satisfied: torchvision==0.9.1 in /usr/local/lib/python3.7/dist-packages (from bpreg) (0.9.1)\n",
            "Requirement already satisfied: dataclasses in /usr/local/lib/python3.7/dist-packages (from bpreg) (0.6)\n",
            "Requirement already satisfied: opencv-python-headless>=4.1.1 in /usr/local/lib/python3.7/dist-packages (from albumentations==0.5.2->bpreg) (4.1.2.30)\n",
            "Requirement already satisfied: imgaug>=0.4.0 in /usr/local/lib/python3.7/dist-packages (from albumentations==0.5.2->bpreg) (0.4.0)\n",
            "Requirement already satisfied: PyYAML in /usr/local/lib/python3.7/dist-packages (from albumentations==0.5.2->bpreg) (6.0)\n",
            "Requirement already satisfied: numpy>=1.11.1 in /usr/local/lib/python3.7/dist-packages (from albumentations==0.5.2->bpreg) (1.21.5)\n",
            "Requirement already satisfied: scikit-image>=0.16.1 in /usr/local/lib/python3.7/dist-packages (from albumentations==0.5.2->bpreg) (0.18.3)\n",
            "Requirement already satisfied: packaging>=14.3 in /usr/local/lib/python3.7/dist-packages (from nibabel==3.2.1->bpreg) (21.3)\n",
            "Requirement already satisfied: pytz>=2017.3 in /usr/local/lib/python3.7/dist-packages (from pandas==1.2.1->bpreg) (2022.5)\n",
            "Requirement already satisfied: python-dateutil>=2.7.3 in /usr/local/lib/python3.7/dist-packages (from pandas==1.2.1->bpreg) (2.8.2)\n",
            "Requirement already satisfied: torchmetrics==0.2.0 in /usr/local/lib/python3.7/dist-packages (from pytorch-lightning==1.2.10->bpreg) (0.2.0)\n",
            "Requirement already satisfied: future>=0.17.1 in /usr/local/lib/python3.7/dist-packages (from pytorch-lightning==1.2.10->bpreg) (0.18.2)\n",
            "Requirement already satisfied: fsspec[http]>=0.8.1 in /usr/local/lib/python3.7/dist-packages (from pytorch-lightning==1.2.10->bpreg) (2022.10.0)\n",
            "Requirement already satisfied: tqdm>=4.41.0 in /usr/local/lib/python3.7/dist-packages (from pytorch-lightning==1.2.10->bpreg) (4.64.1)\n",
            "Requirement already satisfied: tensorboard!=2.5.0,>=2.2.0 in /usr/local/lib/python3.7/dist-packages (from pytorch-lightning==1.2.10->bpreg) (2.9.1)\n",
            "Requirement already satisfied: typing-extensions in /usr/local/lib/python3.7/dist-packages (from torch==1.8.1->bpreg) (4.1.1)\n",
            "Requirement already satisfied: pillow>=4.1.1 in /usr/local/lib/python3.7/dist-packages (from torchvision==0.9.1->bpreg) (9.3.0)\n",
            "Requirement already satisfied: requests in /usr/local/lib/python3.7/dist-packages (from fsspec[http]>=0.8.1->pytorch-lightning==1.2.10->bpreg) (2.23.0)\n",
            "Requirement already satisfied: aiohttp!=4.0.0a0,!=4.0.0a1 in /usr/local/lib/python3.7/dist-packages (from fsspec[http]>=0.8.1->pytorch-lightning==1.2.10->bpreg) (3.8.3)\n",
            "Requirement already satisfied: asynctest==0.13.0 in /usr/local/lib/python3.7/dist-packages (from aiohttp!=4.0.0a0,!=4.0.0a1->fsspec[http]>=0.8.1->pytorch-lightning==1.2.10->bpreg) (0.13.0)\n",
            "Requirement already satisfied: frozenlist>=1.1.1 in /usr/local/lib/python3.7/dist-packages (from aiohttp!=4.0.0a0,!=4.0.0a1->fsspec[http]>=0.8.1->pytorch-lightning==1.2.10->bpreg) (1.3.1)\n",
            "Requirement already satisfied: multidict<7.0,>=4.5 in /usr/local/lib/python3.7/dist-packages (from aiohttp!=4.0.0a0,!=4.0.0a1->fsspec[http]>=0.8.1->pytorch-lightning==1.2.10->bpreg) (6.0.2)\n",
            "Requirement already satisfied: async-timeout<5.0,>=4.0.0a3 in /usr/local/lib/python3.7/dist-packages (from aiohttp!=4.0.0a0,!=4.0.0a1->fsspec[http]>=0.8.1->pytorch-lightning==1.2.10->bpreg) (4.0.2)\n",
            "Requirement already satisfied: charset-normalizer<3.0,>=2.0 in /usr/local/lib/python3.7/dist-packages (from aiohttp!=4.0.0a0,!=4.0.0a1->fsspec[http]>=0.8.1->pytorch-lightning==1.2.10->bpreg) (2.1.1)\n",
            "Requirement already satisfied: aiosignal>=1.1.2 in /usr/local/lib/python3.7/dist-packages (from aiohttp!=4.0.0a0,!=4.0.0a1->fsspec[http]>=0.8.1->pytorch-lightning==1.2.10->bpreg) (1.2.0)\n",
            "Requirement already satisfied: yarl<2.0,>=1.0 in /usr/local/lib/python3.7/dist-packages (from aiohttp!=4.0.0a0,!=4.0.0a1->fsspec[http]>=0.8.1->pytorch-lightning==1.2.10->bpreg) (1.8.1)\n",
            "Requirement already satisfied: attrs>=17.3.0 in /usr/local/lib/python3.7/dist-packages (from aiohttp!=4.0.0a0,!=4.0.0a1->fsspec[http]>=0.8.1->pytorch-lightning==1.2.10->bpreg) (22.1.0)\n",
            "Requirement already satisfied: opencv-python in /usr/local/lib/python3.7/dist-packages (from imgaug>=0.4.0->albumentations==0.5.2->bpreg) (4.6.0.66)\n",
            "Requirement already satisfied: six in /usr/local/lib/python3.7/dist-packages (from imgaug>=0.4.0->albumentations==0.5.2->bpreg) (1.15.0)\n",
            "Requirement already satisfied: Shapely in /usr/local/lib/python3.7/dist-packages (from imgaug>=0.4.0->albumentations==0.5.2->bpreg) (1.8.5.post1)\n",
            "Requirement already satisfied: imageio in /usr/local/lib/python3.7/dist-packages (from imgaug>=0.4.0->albumentations==0.5.2->bpreg) (2.9.0)\n",
            "Requirement already satisfied: matplotlib in /usr/local/lib/python3.7/dist-packages (from imgaug>=0.4.0->albumentations==0.5.2->bpreg) (3.2.2)\n",
            "Requirement already satisfied: pyparsing!=3.0.5,>=2.0.2 in /usr/local/lib/python3.7/dist-packages (from packaging>=14.3->nibabel==3.2.1->bpreg) (3.0.9)\n",
            "Requirement already satisfied: PyWavelets>=1.1.1 in /usr/local/lib/python3.7/dist-packages (from scikit-image>=0.16.1->albumentations==0.5.2->bpreg) (1.3.0)\n",
            "Requirement already satisfied: networkx>=2.0 in /usr/local/lib/python3.7/dist-packages (from scikit-image>=0.16.1->albumentations==0.5.2->bpreg) (2.6.3)\n",
            "Requirement already satisfied: tifffile>=2019.7.26 in /usr/local/lib/python3.7/dist-packages (from scikit-image>=0.16.1->albumentations==0.5.2->bpreg) (2021.11.2)\n",
            "Requirement already satisfied: kiwisolver>=1.0.1 in /usr/local/lib/python3.7/dist-packages (from matplotlib->imgaug>=0.4.0->albumentations==0.5.2->bpreg) (1.4.4)\n",
            "Requirement already satisfied: cycler>=0.10 in /usr/local/lib/python3.7/dist-packages (from matplotlib->imgaug>=0.4.0->albumentations==0.5.2->bpreg) (0.11.0)\n",
            "Requirement already satisfied: tensorboard-data-server<0.7.0,>=0.6.0 in /usr/local/lib/python3.7/dist-packages (from tensorboard!=2.5.0,>=2.2.0->pytorch-lightning==1.2.10->bpreg) (0.6.1)\n",
            "Requirement already satisfied: werkzeug>=1.0.1 in /usr/local/lib/python3.7/dist-packages (from tensorboard!=2.5.0,>=2.2.0->pytorch-lightning==1.2.10->bpreg) (1.0.1)\n",
            "Requirement already satisfied: google-auth-oauthlib<0.5,>=0.4.1 in /usr/local/lib/python3.7/dist-packages (from tensorboard!=2.5.0,>=2.2.0->pytorch-lightning==1.2.10->bpreg) (0.4.6)\n",
            "Requirement already satisfied: grpcio>=1.24.3 in /usr/local/lib/python3.7/dist-packages (from tensorboard!=2.5.0,>=2.2.0->pytorch-lightning==1.2.10->bpreg) (1.50.0)\n",
            "Requirement already satisfied: google-auth<3,>=1.6.3 in /usr/local/lib/python3.7/dist-packages (from tensorboard!=2.5.0,>=2.2.0->pytorch-lightning==1.2.10->bpreg) (1.35.0)\n",
            "Requirement already satisfied: protobuf<3.20,>=3.9.2 in /usr/local/lib/python3.7/dist-packages (from tensorboard!=2.5.0,>=2.2.0->pytorch-lightning==1.2.10->bpreg) (3.17.3)\n",
            "Requirement already satisfied: tensorboard-plugin-wit>=1.6.0 in /usr/local/lib/python3.7/dist-packages (from tensorboard!=2.5.0,>=2.2.0->pytorch-lightning==1.2.10->bpreg) (1.8.1)\n",
            "Requirement already satisfied: wheel>=0.26 in /usr/local/lib/python3.7/dist-packages (from tensorboard!=2.5.0,>=2.2.0->pytorch-lightning==1.2.10->bpreg) (0.37.1)\n",
            "Requirement already satisfied: markdown>=2.6.8 in /usr/local/lib/python3.7/dist-packages (from tensorboard!=2.5.0,>=2.2.0->pytorch-lightning==1.2.10->bpreg) (3.4.1)\n",
            "Requirement already satisfied: absl-py>=0.4 in /usr/local/lib/python3.7/dist-packages (from tensorboard!=2.5.0,>=2.2.0->pytorch-lightning==1.2.10->bpreg) (1.3.0)\n",
            "Requirement already satisfied: setuptools>=41.0.0 in /usr/local/lib/python3.7/dist-packages (from tensorboard!=2.5.0,>=2.2.0->pytorch-lightning==1.2.10->bpreg) (57.4.0)\n",
            "Requirement already satisfied: cachetools<5.0,>=2.0.0 in /usr/local/lib/python3.7/dist-packages (from google-auth<3,>=1.6.3->tensorboard!=2.5.0,>=2.2.0->pytorch-lightning==1.2.10->bpreg) (4.2.4)\n",
            "Requirement already satisfied: pyasn1-modules>=0.2.1 in /usr/local/lib/python3.7/dist-packages (from google-auth<3,>=1.6.3->tensorboard!=2.5.0,>=2.2.0->pytorch-lightning==1.2.10->bpreg) (0.2.8)\n",
            "Requirement already satisfied: rsa<5,>=3.1.4 in /usr/local/lib/python3.7/dist-packages (from google-auth<3,>=1.6.3->tensorboard!=2.5.0,>=2.2.0->pytorch-lightning==1.2.10->bpreg) (4.9)\n",
            "Requirement already satisfied: requests-oauthlib>=0.7.0 in /usr/local/lib/python3.7/dist-packages (from google-auth-oauthlib<0.5,>=0.4.1->tensorboard!=2.5.0,>=2.2.0->pytorch-lightning==1.2.10->bpreg) (1.3.1)\n",
            "Requirement already satisfied: importlib-metadata>=4.4 in /usr/local/lib/python3.7/dist-packages (from markdown>=2.6.8->tensorboard!=2.5.0,>=2.2.0->pytorch-lightning==1.2.10->bpreg) (4.13.0)\n",
            "Requirement already satisfied: zipp>=0.5 in /usr/local/lib/python3.7/dist-packages (from importlib-metadata>=4.4->markdown>=2.6.8->tensorboard!=2.5.0,>=2.2.0->pytorch-lightning==1.2.10->bpreg) (3.10.0)\n",
            "Requirement already satisfied: pyasn1<0.5.0,>=0.4.6 in /usr/local/lib/python3.7/dist-packages (from pyasn1-modules>=0.2.1->google-auth<3,>=1.6.3->tensorboard!=2.5.0,>=2.2.0->pytorch-lightning==1.2.10->bpreg) (0.4.8)\n",
            "Requirement already satisfied: idna<3,>=2.5 in /usr/local/lib/python3.7/dist-packages (from requests->fsspec[http]>=0.8.1->pytorch-lightning==1.2.10->bpreg) (2.10)\n",
            "Requirement already satisfied: chardet<4,>=3.0.2 in /usr/local/lib/python3.7/dist-packages (from requests->fsspec[http]>=0.8.1->pytorch-lightning==1.2.10->bpreg) (3.0.4)\n",
            "Requirement already satisfied: urllib3!=1.25.0,!=1.25.1,<1.26,>=1.21.1 in /usr/local/lib/python3.7/dist-packages (from requests->fsspec[http]>=0.8.1->pytorch-lightning==1.2.10->bpreg) (1.24.3)\n",
            "Requirement already satisfied: certifi>=2017.4.17 in /usr/local/lib/python3.7/dist-packages (from requests->fsspec[http]>=0.8.1->pytorch-lightning==1.2.10->bpreg) (2022.9.24)\n",
            "Requirement already satisfied: oauthlib>=3.0.0 in /usr/local/lib/python3.7/dist-packages (from requests-oauthlib>=0.7.0->google-auth-oauthlib<0.5,>=0.4.1->tensorboard!=2.5.0,>=2.2.0->pytorch-lightning==1.2.10->bpreg) (3.2.2)\n",
            "Cloning into 'BodyPartRegression'...\n",
            "remote: Enumerating objects: 2378, done.\u001b[K\n",
            "remote: Counting objects: 100% (364/364), done.\u001b[K\n",
            "remote: Compressing objects: 100% (167/167), done.\u001b[K\n",
            "remote: Total 2378 (delta 191), reused 364 (delta 191), pack-reused 2014\u001b[K\n",
            "Receiving objects: 100% (2378/2378), 12.23 MiB | 32.10 MiB/s, done.\n",
            "Resolving deltas: 100% (1530/1530), done.\n",
            "Looking in indexes: https://pypi.org/simple, https://us-python.pkg.dev/colab-wheels/public/simple/\n",
            "Requirement already satisfied: SimpleITK in /usr/local/lib/python3.7/dist-packages (2.2.0)\n",
            "Looking in indexes: https://pypi.org/simple, https://us-python.pkg.dev/colab-wheels/public/simple/\n",
            "Requirement already satisfied: pydicom in /usr/local/lib/python3.7/dist-packages (2.3.0)\n",
            "Looking in indexes: https://pypi.org/simple, https://us-python.pkg.dev/colab-wheels/public/simple/\n",
            "Requirement already satisfied: opencv-python-headless==4.1.2.30 in /usr/local/lib/python3.7/dist-packages (4.1.2.30)\n",
            "Requirement already satisfied: numpy>=1.14.5 in /usr/local/lib/python3.7/dist-packages (from opencv-python-headless==4.1.2.30) (1.21.5)\n",
            "1.2.1\n"
          ]
        }
      ],
      "source": [
        "#%%capture \n",
        "import shutil\n",
        "import os\n",
        "if os.path.isdir('/content/BodyPartRegression'):\n",
        "  shutil.rmtree('/content/BodyPartRegression')\n",
        "!pip install torch==1.8.1 pytorch-lightning==1.2.10 torchtext==0.9.1 torchvision==0.9.1 torchaudio==0.8.1 dataclasses==0.6\n",
        "!pip install bpreg\n",
        "!git clone https://github.com/MIC-DKFZ/BodyPartRegression.git\n",
        "# !pip install torch==1.8.1 pytorch-lightning==1.2.10 torchtext==0.9.1\n",
        "!pip install SimpleITK\n",
        "!pip install pydicom\n",
        "\n",
        "import bpreg \n",
        "import seaborn as sb \n",
        "import pandas as pd \n",
        "import SimpleITK as sitk\n",
        "import glob\n",
        "import matplotlib.pyplot as plt \n",
        "\n",
        "!pip install opencv-python-headless==4.1.2.30 # https://stackoverflow.com/questions/70537488/cannot-import-name-registermattype-from-cv2-cv2/70547274\n",
        "from BodyPartRegression.docs.notebooks.utils import * \n",
        "\n",
        "print (pd.__version__)"
      ]
    },
    {
      "cell_type": "code",
      "execution_count": 5,
      "metadata": {
        "id": "3dwDGSxdC4Mw",
        "colab": {
          "base_uri": "https://localhost:8080/"
        },
        "outputId": "445bdd27-a319-4bd0-eeb2-47c426bdefd6"
      },
      "outputs": [
        {
          "output_type": "stream",
          "name": "stdout",
          "text": [
            "Reading package lists... Done\n",
            "Building dependency tree       \n",
            "Reading state information... Done\n",
            "dcm2niix is already the newest version (1.0.20171215-1).\n",
            "The following package was automatically installed and is no longer required:\n",
            "  libnvidia-common-460\n",
            "Use 'sudo apt autoremove' to remove it.\n",
            "0 upgraded, 0 newly installed, 0 to remove and 4 not upgraded.\n"
          ]
        }
      ],
      "source": [
        "# install dcm2niix\n",
        "!sudo apt-get install dcm2niix "
      ]
    },
    {
      "cell_type": "code",
      "execution_count": 6,
      "metadata": {
        "id": "KZYEUFWcW6pG",
        "colab": {
          "base_uri": "https://localhost:8080/"
        },
        "outputId": "7ef1190c-bf6a-47b4-e75f-485e855208b8"
      },
      "outputs": [
        {
          "output_type": "stream",
          "name": "stdout",
          "text": [
            "Looking in indexes: https://pypi.org/simple, https://us-python.pkg.dev/colab-wheels/public/simple/\n",
            "Requirement already satisfied: pynrrd in /usr/local/lib/python3.7/dist-packages (1.0.0)\n",
            "Requirement already satisfied: numpy>=1.11.1 in /usr/local/lib/python3.7/dist-packages (from pynrrd) (1.21.5)\n",
            "Requirement already satisfied: nptyping in /usr/local/lib/python3.7/dist-packages (from pynrrd) (2.3.1)\n",
            "Requirement already satisfied: typing-extensions in /usr/local/lib/python3.7/dist-packages (from pynrrd) (4.1.1)\n"
          ]
        }
      ],
      "source": [
        "#install nrrd\n",
        "!pip install pynrrd"
      ]
    },
    {
      "cell_type": "code",
      "execution_count": 7,
      "metadata": {
        "id": "CU-D744Jl1dG",
        "colab": {
          "base_uri": "https://localhost:8080/"
        },
        "outputId": "d1d74854-feb7-4d0c-9fe6-fcf8c1185253"
      },
      "outputs": [
        {
          "output_type": "stream",
          "name": "stdout",
          "text": [
            "Reading package lists... Done\n",
            "Building dependency tree       \n",
            "Reading state information... Done\n",
            "plastimatch is already the newest version (1.7.0+dfsg.1-1).\n",
            "The following package was automatically installed and is no longer required:\n",
            "  libnvidia-common-460\n",
            "Use 'sudo apt autoremove' to remove it.\n",
            "0 upgraded, 0 newly installed, 0 to remove and 4 not upgraded.\n",
            "plastimatch version 1.7.0\n",
            "Cloning into 'pyplastimatch'...\n",
            "remote: Enumerating objects: 361, done.\u001b[K\n",
            "remote: Counting objects: 100% (104/104), done.\u001b[K\n",
            "remote: Compressing objects: 100% (68/68), done.\u001b[K\n",
            "remote: Total 361 (delta 38), reused 97 (delta 32), pack-reused 257\n",
            "Receiving objects: 100% (361/361), 55.58 MiB | 13.61 MiB/s, done.\n",
            "Resolving deltas: 100% (40/40), done.\n"
          ]
        }
      ],
      "source": [
        "#Install Plastimatch\n",
        "\n",
        "!sudo apt install plastimatch \n",
        "!echo $(plastimatch --version)\n",
        "\n",
        "if os.path.isdir('/content/pyplastimatch'):\n",
        "  try:\n",
        "    shutil.rmtree('/content/pyplastimatch')\n",
        "  except OSError as err:\n",
        "    print(\"Error: %s : %s\" % (\"pyplastimatch\", err.strerror)) \n",
        "# !git clone https://github.com/denbonte/pyplastimatch/ pyplastimatch\n",
        "!git clone https://github.com/AIM-Harvard/pyplastimatch.git \n",
        "\n",
        "# from pyplastimatch import pyplastimatch as pypla\n",
        "from pyplastimatch.pyplastimatch import pyplastimatch as pypla"
      ]
    },
    {
      "cell_type": "code",
      "execution_count": 8,
      "metadata": {
        "id": "HKGUrG1iAo5f"
      },
      "outputs": [],
      "source": [
        "import glob\n",
        "import numpy as np\n",
        "from bpreg.scripts.bpreg_inference import bpreg_inference\n",
        "from google.cloud import storage\n",
        "import nrrd\n",
        "import json\n",
        "import matplotlib.pyplot as plt\n",
        "from matplotlib import transforms\n",
        "from matplotlib.colors import ListedColormap"
      ]
    },
    {
      "cell_type": "code",
      "execution_count": 9,
      "metadata": {
        "id": "sR8c3D6j1Vvh"
      },
      "outputs": [],
      "source": [
        "%%bigquery --project=bwh-midrc-rapid-res-1655321320 ct_limited_open_a1_r1\n",
        "\n",
        "WITH\n",
        "  nlst_instances_per_series AS (\n",
        "    SELECT\n",
        "      DISTINCT(StudyInstanceUID),\n",
        "      SeriesInstanceUID,\n",
        "      COUNT(DISTINCT(SOPInstanceUID)) AS num_instances,\n",
        "      COUNT(DISTINCT(ARRAY_TO_STRING(ImagePositionPatient,\"/\"))) AS position_count,\n",
        "      COUNT(DISTINCT(ARRAY_TO_STRING(ImageOrientationPatient,\"/\"))) AS orientation_count,\n",
        "      MIN(SAFE_CAST(SliceThickness AS float64)) AS min_SliceThickness,\n",
        "      MAX(SAFE_CAST(SliceThickness AS float64)) AS max_SliceThickness,\n",
        "      MIN(SAFE_CAST(ImagePositionPatient[SAFE_OFFSET(2)] AS float64)) as min_SliceLocation, \n",
        "      MAX(SAFE_CAST(ImagePositionPatient[SAFE_OFFSET(2)] AS float64)) as max_SliceLocation,\n",
        "      STRING_AGG(DISTINCT(SAFE_CAST(\"LOCALIZER\" IN UNNEST(ImageType) AS string)),\"\") AS has_localizer\n",
        "    FROM\n",
        "      bwh-midrc-rapid-res-1655321320.midrc_dicom_us.dicom_all\n",
        "    WHERE\n",
        "      (collection_id = \"Open-R1\" or collection_id = \"Open-A1\") and Modality = \"CT\"\n",
        "    GROUP BY\n",
        "      StudyInstanceUID,\n",
        "      SeriesInstanceUID\n",
        "      ), \n",
        "  nlst_values_per_series AS (\n",
        "    SELECT \n",
        "    ANY_VALUE(dicom_all.PatientID) AS PatientID,\n",
        "    dicom_all.SeriesInstanceUID,\n",
        "    ANY_VALUE(nlst_instances_per_series.num_instances) AS num_instances,\n",
        "    ANY_VALUE(nlst_instances_per_series.max_SliceThickness) AS SliceThickness,\n",
        "    ANY_VALUE((nlst_instances_per_series.max_SliceLocation - nlst_instances_per_series.min_SliceLocation)) AS PatientHeightScanned\n",
        "  FROM\n",
        "    bwh-midrc-rapid-res-1655321320.midrc_dicom_us.dicom_all AS dicom_all\n",
        "  JOIN\n",
        "    nlst_instances_per_series\n",
        "  ON\n",
        "    dicom_all.SeriesInstanceUID = nlst_instances_per_series.SeriesInstanceUID\n",
        "  WHERE\n",
        "    min_SliceThickness >= 1.5 \n",
        "    AND max_SliceThickness <= 3.5 \n",
        "    AND nlst_instances_per_series.num_instances > 100\n",
        "    AND nlst_instances_per_series.num_instances/nlst_instances_per_series.position_count = 1\n",
        "    AND nlst_instances_per_series.orientation_count = 1\n",
        "    AND has_localizer = \"false\"\n",
        "  GROUP BY\n",
        "    SeriesInstanceUID\n",
        "  )\n",
        "  SELECT \n",
        "    dicom_all.PatientID,\n",
        "    dicom_all.StudyInstanceUID,\n",
        "    dicom_all.SeriesInstanceUID,\n",
        "    dicom_all.SOPInstanceUID,\n",
        "    dicom_all.collection_id,\n",
        "    dicom_all.PatientAge,\n",
        "    dicom_all.PatientWeight,\n",
        "    nlst_values_per_series.num_instances,\n",
        "    nlst_values_per_series.SliceThickness,\n",
        "    nlst_values_per_series.PatientHeightScanned\n",
        "  FROM\n",
        "    bwh-midrc-rapid-res-1655321320.midrc_dicom_us.dicom_all AS dicom_all\n",
        "  JOIN\n",
        "    nlst_values_per_series \n",
        "  ON\n",
        "    dicom_all.SeriesInstanceUID = nlst_values_per_series.SeriesInstanceUID"
      ]
    },
    {
      "cell_type": "code",
      "execution_count": null,
      "metadata": {
        "id": "1sSH_iQr3hIb"
      },
      "outputs": [],
      "source": [
        "ct_limited_open_a1_r1"
      ]
    },
    {
      "cell_type": "code",
      "execution_count": 6,
      "metadata": {
        "colab": {
          "base_uri": "https://localhost:8080/"
        },
        "id": "3YzA5uAf4vcU",
        "outputId": "9400527c-bf95-4b7c-d0df-a238be935889"
      },
      "outputs": [
        {
          "output_type": "execute_result",
          "data": {
            "text/plain": [
              "Index(['PatientID', 'StudyInstanceUID', 'SeriesInstanceUID', 'SOPInstanceUID',\n",
              "       'collection_id', 'PatientAge', 'PatientWeight', 'num_instances',\n",
              "       'SliceThickness', 'PatientHeightScanned'],\n",
              "      dtype='object')"
            ]
          },
          "metadata": {},
          "execution_count": 6
        }
      ],
      "source": [
        "ct_limited_open_a1_r1.columns"
      ]
    },
    {
      "cell_type": "code",
      "execution_count": null,
      "metadata": {
        "id": "qptg3h_PxubB"
      },
      "outputs": [],
      "source": [
        "ct_limited_open_a1_r1.describe()"
      ]
    },
    {
      "cell_type": "code",
      "execution_count": null,
      "metadata": {
        "id": "P1cx_t9ZwknH"
      },
      "outputs": [],
      "source": [
        "# plot selected\n",
        "\n",
        "fig, ax = plt.subplots(3, 1, figsize=(18, 12))\n",
        "\n",
        "x1 = np.random.randint(low=0, high=100, size=100)\n",
        "\n",
        "# Slice Thickness \n",
        "sb.histplot(ax=ax[0], x=\"SliceThickness\", data=ct_limited_open_a1_r1)\n",
        "\n",
        "# PatientAge\n",
        "sb.countplot(ax=ax[1], x=\"PatientAge\", data=ct_limited_open_a1_r1)\n",
        "ax.set_xticks(np.arange(0, len(x1)+1, 25))\n",
        "\n",
        "# PatientWeight\n",
        "sb.countplot(ax=ax[2], x=\"PatientWeight\", data=ct_limited_open_a1_r1)\n",
        "\n",
        "# BodyPartExamined\n",
        "#sb.countplot(ax=ax[0], x=\"BodyPartExamined\", data=ct_open_a1_r1)\n",
        "\n",
        "# PatientSex\n",
        "#sb.countplot(ax=ax[1], x=\"PatientSex\", data=ct_open_a1_r1)\n"
      ]
    },
    {
      "cell_type": "markdown",
      "metadata": {
        "id": "j0Y4RK0yRxll"
      },
      "source": [
        "**Retreive individual instances using DICOMweb protocol**\n",
        "\n",
        "The code below is adopted from https://cloud.google.com/healthcare-api/docs/samples/healthcare-dicomweb-retrieve-instance#healthcare_dicomweb_retrieve_instance-python"
      ]
    },
    {
      "cell_type": "code",
      "execution_count": 10,
      "metadata": {
        "id": "QImQTiwVnvxr"
      },
      "outputs": [],
      "source": [
        "%%capture\n",
        "!pip install dicomweb-client"
      ]
    },
    {
      "cell_type": "markdown",
      "metadata": {
        "id": "BGgYQT2DzUNb"
      },
      "source": [
        "**Define the list of SOPInstanceUIDs for the series of interest by getting CT series from the DICOM Store using BigQuery SQL**"
      ]
    },
    {
      "cell_type": "code",
      "source": [
        "def download_series(study_instance_uid, series_instance_uid, sop_instance_uids, dest_dir):\n",
        "  import pydicom\n",
        "  token = !gcloud auth print-access-token\n",
        "  token = token[0]\n",
        "\n",
        "  PROJECT_ID=\"bwh-midrc-rapid-res-1655321320\"\n",
        "  REGION=\"us-central1\"\n",
        "\n",
        "  DATASET_ID=\"midrc\"\n",
        "  DICOM_STORE_ID=\"midrc-dicom\"\n",
        "  \n",
        "  my_project = \"bwh-midrc-rapid-res-1655321320\"\n",
        "  location = \"us-central1\"\n",
        "  dataset_id = \"midrc\"\n",
        "  dicom_store_id = \"midrc-dicom\"\n",
        "\n",
        "  url = f\"https://healthcare.googleapis.com/v1/projects/{my_project}/locations/{location}/datasets/{dataset_id}/dicomStores/{dicom_store_id}/dicomWeb\"\n",
        "  headers = {\n",
        "      \"Authorization\" : \"Bearer %s\" % token\n",
        "  }\n",
        "\n",
        "  import dicomweb_client\n",
        "\n",
        "  client = dicomweb_client.api.DICOMwebClient(url, headers=headers)\n",
        "\n",
        "  idx=0\n",
        "  for sop_instance_uid in sop_instance_uids:\n",
        "    retrievedInstance = client.retrieve_instance(\n",
        "                study_instance_uid=study_instance_uid,\n",
        "                series_instance_uid=series_instance_uid,\n",
        "                sop_instance_uid=sop_instance_uid)\n",
        "    pydicom.filewriter.write_file(f\"{dest_dir}/file{idx}.dcm\", retrievedInstance)\n",
        "    idx+=1"
      ],
      "metadata": {
        "id": "KE05zkHQnxrn"
      },
      "execution_count": 11,
      "outputs": []
    },
    {
      "cell_type": "code",
      "execution_count": 12,
      "metadata": {
        "id": "0q6ovBXnRWeY"
      },
      "outputs": [],
      "source": [
        "def file_exists_in_bucket(project_name, bucket_name, file_gs_uri):\n",
        "  \n",
        "  \"\"\"\n",
        "  Check whether a file exists in the specified Google Cloud Storage Bucket.\n",
        "\n",
        "  Arguments:\n",
        "    project_name : required - name of the GCP project.\n",
        "    bucket_name  : required - name of the bucket (without gs://)\n",
        "    file_gs_uri  : required - file GS URI\n",
        "  \n",
        "  Returns:\n",
        "    file_exists : boolean variable, True if the file exists in the specified,\n",
        "                  bucket, at the specified location; False if it doesn't.\n",
        "\n",
        "  Outputs:\n",
        "    This function [...]\n",
        "  \"\"\"\n",
        "\n",
        "  storage_client = storage.Client(project = project_name)\n",
        "  bucket = storage_client.get_bucket(bucket_name)\n",
        "  \n",
        "  bucket_gs_url = \"gs://%s/\"%(bucket_name)\n",
        "  path_to_file_relative = file_gs_uri.split(bucket_gs_url)[-1]\n",
        "\n",
        "  print(\"Searching %s for: \\n%s\\n\"%(bucket_gs_url, path_to_file_relative))\n",
        "\n",
        "  file_exists = bucket.blob(path_to_file_relative).exists(storage_client)\n",
        "  \n",
        "  return file_exists"
      ]
    },
    {
      "cell_type": "code",
      "execution_count": 13,
      "metadata": {
        "id": "NVLMdLD8weHu"
      },
      "outputs": [],
      "source": [
        "def visualize_body_parts(fn_png, ct, legs, pelvis, abdomen, chest, shoulderneck, head):\n",
        "  plt.rcParams['figure.figsize'] = [20, 10]\n",
        "  fig, (ax1,ax2,ax3,ax4,ax5,ax6) = plt.subplots(1,6)\n",
        "  xslice = 350\n",
        "  yslice = int(ct.shape[1]/2.) \n",
        "  zslice = 100\n",
        "\n",
        "  tissuescmap = ListedColormap(['black', # air\n",
        "  ##organs x 19\n",
        "  ## https://matplotlib.org/stable/gallery/color/named_colors.html\n",
        "  'darkred', 'orange', 'yellow',     'green', 'mediumslateblue', 'cyan',\n",
        "  'purple','coral', 'tan', 'fuchsia',  'chartreuse', 'deepskyblue', 'skyblue', 'indigo', 'lime', 'gold', 'pink',\n",
        "  'peru', 'olivedrab'])                            \n",
        "\n",
        "  myslicect = ct[:,yslice,:]\n",
        "  boxslice1 = legs[:,yslice,:]\n",
        "  boxslice2 = pelvis[:,yslice,:]\n",
        "  boxslice3 = abdomen[:,yslice,:]\n",
        "  boxslice4 = chest[:,yslice,:]\n",
        "  boxslice5 = shoulderneck[:,yslice,:]\n",
        "  boxslice6 = head[:,yslice,:]\n",
        "  a = ct.shape[0]/ct.shape[2]\n",
        "  o = \"lower\"\n",
        "\n",
        "  ax1.imshow(myslicect.T, cmap='gray', aspect = a,origin = o,vmin = -400, vmax = 400)\n",
        "  ax1.imshow(boxslice1.T, cmap=\"Oranges\", alpha = 0.3, aspect=a, origin = o)\n",
        "  ax1.set_title('Legs', fontsize=18)\n",
        "\n",
        "  ax2.imshow(myslicect.T, cmap='gray', aspect = a,origin = o, vmin = -400, vmax = 400)\n",
        "  ax2.imshow(boxslice2.T, cmap=\"Oranges\", alpha = 0.3, aspect=a, origin = o)\n",
        "  ax2.set_title('Pelvis',fontsize=18)\n",
        "\n",
        "  ax3.imshow(myslicect.T, cmap='gray', aspect = a,origin = o,vmin = -400, vmax = 400)\n",
        "  ax3.imshow(boxslice3.T, cmap=\"Oranges\", alpha = 0.3, aspect=a, origin = o)\n",
        "  ax3.set_title('Abdomen',fontsize=18)\n",
        "\n",
        "  ax4.imshow(myslicect.T, cmap='gray', aspect = a,origin = o,vmin = -400, vmax = 400)\n",
        "  ax4.imshow(boxslice4.T, cmap=\"Oranges\", alpha = 0.3, aspect=a, origin = o)\n",
        "  ax4.set_title('Chest',fontsize=18)\n",
        "\n",
        "  ax5.imshow(myslicect.T, cmap='gray', aspect = a,origin = o,vmin = -400, vmax = 400)\n",
        "  ax5.imshow(boxslice5.T, cmap=\"Oranges\", alpha = 0.3, aspect=a, origin = o)\n",
        "  ax5.set_title('Shoulder-neck',fontsize=18)\n",
        "\n",
        "  ax6.imshow(myslicect.T, cmap='gray', aspect = a,origin = o,vmin = -400, vmax = 400)\n",
        "  ax6.imshow(boxslice6.T, cmap=\"Oranges\", alpha = 0.3, aspect=a, origin = o)\n",
        "  ax6.set_title('Head',fontsize=18)\n",
        "  fig.savefig(fn_png,dpi=150)\n"
      ]
    },
    {
      "cell_type": "code",
      "source": [
        "import logging\n",
        "urllib3_logger = logging.getLogger('urllib3')\n",
        "urllib3_logger.setLevel(logging.CRITICAL) # suppress messages upon download"
      ],
      "metadata": {
        "id": "RQjDEsQN_z71"
      },
      "execution_count": 14,
      "outputs": []
    },
    {
      "cell_type": "code",
      "execution_count": null,
      "metadata": {
        "id": "A7kCysKk3GwX"
      },
      "outputs": [],
      "source": [
        "# Processing series\n",
        "\n",
        "path_downloaded = '/content/downloaded_data'\n",
        "path_nifti = '/content/nifti_data'\n",
        "path_json =  '/content/json_data'\n",
        "path_nrrd = '/content/nrrd_data'\n",
        "\n",
        "df = ct_limited_open_a1_r1\n",
        "\n",
        "seriesuid_all = list(set(df['SeriesInstanceUID'].tolist()))\n",
        "print('total series:', len(seriesuid_all))\n",
        "\n",
        "#seriesuid_all = ['1.2.826.0.1.3680043.10.474.419639.105799060738901793068313281334']\n",
        "\n",
        "#for seriesuid in [seriesuid_all[14]]:\n",
        "\n",
        "#for seriesuid in seriesuid_all[0:25]:\n",
        "for seriesuid in seriesuid_all:\n",
        "\n",
        "  print('\\n\\nSeries %d / %d' %( seriesuid_all.index(seriesuid), len(seriesuid_all)) )\n",
        "\n",
        "  # clean up from previous iterations and recreate temp directories\n",
        "  if 1:\n",
        "    for x in [path_downloaded, path_nifti, path_json, path_nrrd]:\n",
        "      if os.path.isdir(x):\n",
        "        try:\n",
        "          shutil.rmtree(x)\n",
        "        except OSError as err:\n",
        "          print(\"Error: %s : %s\" % (x, err.strerror))  \n",
        "      os.mkdir(x)\n",
        "\n",
        "  studyuids = list(set(df[df['SeriesInstanceUID']==seriesuid]['StudyInstanceUID'].tolist()))\n",
        "  if len(studyuids)!=1:\n",
        "    print('error - not one UID for this series', studyuids)\n",
        "    print(studyuids)\n",
        "    1/0\n",
        "  studyuid = studyuids[0]\n",
        "  sops = df[ (df['StudyInstanceUID']==studyuid) & (df['SeriesInstanceUID']==seriesuid) ]['SOPInstanceUID'].tolist()\n",
        "\n",
        "  print(len(sops), seriesuid)\n",
        "\n",
        "  url_ohif = \"https://idc-tester-1.web.app/projects/idc-external-019/locations/us-central1/datasets/midrc/dicomStores/midrc-dicom/study/%s?seriesInstanceUID=%s\" % (studyuid,seriesuid)\n",
        "  print(url_ohif)\n",
        "\n",
        "  file_gs_uri = \"gs://%s/%s/non-axial/%s.json\" % (bucket_name, bucket_path, seriesuid)\n",
        "  if file_exists_in_bucket(project_name, bucket_name, file_gs_uri):\n",
        "    print(\"SKIP EXISTING NONAXIAL\", seriesuid)\n",
        "    continue\n",
        "\n",
        "  file_gs_uri = \"gs://%s/%s/%s.json\" % (bucket_name, bucket_path, seriesuid)\n",
        "  if file_exists_in_bucket(project_name, bucket_name, file_gs_uri):\n",
        "    print(\"SKIP EXISTING GOOD\", seriesuid)\n",
        "    continue\n",
        "\n",
        "  # download series\n",
        "  download_series(studyuid, seriesuid, sops, path_downloaded)\n",
        "\n",
        "  #convert to nifti\n",
        "  print('converting to NIFTI')\n",
        "  cmd = 'dcm2niix -z y -m y -o %s  %s ' % (path_nifti, path_downloaded)\n",
        "  print(cmd)\n",
        "  os.system(cmd)\n",
        "\n",
        "  #define nii file to convert to nrrd\n",
        "  files = glob.glob(os.path.join(path_nifti,\"*.nii.gz\"))\n",
        "  x = [len(x) for x in files]\n",
        "  nii_good = files[np.argmin(x)]\n",
        "  print(files)\n",
        "  print('USING ', nii_good)\n",
        "  for x in files:\n",
        "    if x!=nii_good:\n",
        "      print('   Deleted ',x )\n",
        "      os.remove(x)\n",
        "\n",
        "  # body part regression\n",
        "  print('running BPREG')\n",
        "  bpreg_inference(path_nifti, path_json)\n",
        "\n",
        "  # Convert image to nrrd and read as numpy array\n",
        "  print('converting NII to NRRD')\n",
        "  file_path_nrrd = os.path.join(path_nrrd,  \"ct.nrrd\")\n",
        "  log_file_path_nrrd = os.path.join(path_nrrd, 'pypla.log')\n",
        "  convert_args_ct = {\"input\" : nii_good, \"output-img\" : file_path_nrrd}\n",
        "  verbose = True\n",
        "  pypla.convert(verbose = verbose, path_to_log_file = log_file_path_nrrd, **convert_args_ct)\n",
        "  # read nrrd CT\n",
        "  ct, ctheader = nrrd.read(file_path_nrrd)\n",
        "  print(ct.shape)\n",
        "\n",
        "  # find and rename the json file from BPREG output\n",
        "  files = glob.glob(os.path.join(path_json,\"*.json\"))\n",
        "  if len(files)!=1:\n",
        "    print('error: not exactly one json file', files)\n",
        "    1/0\n",
        "  # rename json file \n",
        "  fn = os.path.split(files[0])[-1][:-5]\n",
        "  print(fn)\n",
        "  fn_new= seriesuid+'.json'\n",
        "  # need quotes around filename to escape \"bmi>30\" etc special characters\n",
        "  cmd = 'mv \"%s\" %s' % (files[0], os.path.join(path_json,fn_new))\n",
        "  print(cmd)\n",
        "  os.system(cmd)\n",
        "\n",
        "  # read labels and z-slices for predicted body parts\n",
        "  fileObject = open(os.path.join(path_json, fn_new), \"r\")\n",
        "  jsonContent = fileObject.read()\n",
        "  aList = json.loads(jsonContent)\n",
        "\n",
        "  # check for dimension errors in case of Sagittal or Coronal protocol\n",
        "  image_size_z = ct.shape[2]\n",
        "  error_z = False\n",
        "  for (bodypart, zlist) in aList['body part examined'].items():\n",
        "    print(bodypart, zlist)\n",
        "    for z in zlist:\n",
        "      if z >= image_size_z:\n",
        "        error_z = True\n",
        "  if error_z:\n",
        "    print('SKIP Dimension error, Sagittal or Coronal protocol?')\n",
        "\n",
        "  # if all good, copy BPREG json to the bucket\n",
        "  if not error_z:\n",
        "    cmd = \"gsutil cp %s/%s gs://%s/%s\" % (path_json, fn_new, bucket_name, bucket_path)\n",
        "    print(cmd)\n",
        "    #os.system(cmd)\n",
        "  else:\n",
        "    # copy json to non-axial folders and DO NOT VISUALIZE\n",
        "    cmd = \"gsutil cp %s/%s gs://%s/%s/non-axial\" % (path_json, fn_new, bucket_name, bucket_path)\n",
        "    print(cmd)\n",
        "    #os.system(cmd)\n",
        "    continue\n",
        "\n",
        "  # write out nrrd masks for body parts\n",
        "  for (bodypart, zlist) in aList['body part examined'].items():\n",
        "      print(bodypart, zlist)\n",
        "      lmbox = np.zeros(ct.shape,dtype=np.short)\n",
        "      for z in zlist:\n",
        "          #lmbox[:,:,512-1-int(z)]=1\n",
        "          lmbox[:,:,int(z)]=1\n",
        "      fn = os.path.join(path_nrrd, 'box-%s.nrrd' % bodypart)\n",
        "      nrrd.write(fn, lmbox,  header = ctheader)\n",
        "\n",
        "  fnlegs_in ='/content/nrrd_data/box-legs.nrrd'\n",
        "  fnpelvis_in ='/content/nrrd_data/box-pelvis.nrrd'\n",
        "  fnabdomen_in ='/content/nrrd_data/box-abdomen.nrrd'\n",
        "  fnchest_in ='/content/nrrd_data/box-chest.nrrd'\n",
        "  fnshoulderneck_in ='/content/nrrd_data/box-shoulder-neck.nrrd'\n",
        "  fnhead_in ='/content/nrrd_data/box-head.nrrd'\n",
        "\n",
        "  legs, legsheader = nrrd.read(fnlegs_in)\n",
        "  pelvis, pelvisheader = nrrd.read(fnpelvis_in)\n",
        "  abdomen, abdomenheader = nrrd.read(fnabdomen_in)\n",
        "  chest, chestheader = nrrd.read(fnchest_in)\n",
        "  shoulderneck, shoulderneckheader = nrrd.read(fnshoulderneck_in)\n",
        "  head, headheader = nrrd.read(fnhead_in)\n",
        "\n",
        "  # visualize and save to bucket\n",
        "  print('visualizing')\n",
        "  fn_png = os.path.join(path_json, '%s.png' % seriesuid)\n",
        "  visualize_body_parts(fn_png, ct, legs, pelvis, abdomen, chest, shoulderneck, head)\n",
        "  #!gsutil cp /content/json_data/file_png gs://{bucket_name}/{bucket_path}/\n",
        "  cmd = \"gsutil cp %s gs://%s/%s\" % (fn_png, bucket_name, bucket_path)\n",
        "  print(cmd)\n",
        "  #os.system(cmd)\n"
      ]
    },
    {
      "cell_type": "code",
      "source": [
        "!pip install git+https://github.com/JoHof/lungmask"
      ],
      "metadata": {
        "colab": {
          "base_uri": "https://localhost:8080/"
        },
        "id": "wyjnpC6mbzq7",
        "outputId": "12e69dc8-aa49-4433-a567-1b79892efebb"
      },
      "execution_count": null,
      "outputs": [
        {
          "output_type": "stream",
          "name": "stdout",
          "text": [
            "Looking in indexes: https://pypi.org/simple, https://us-python.pkg.dev/colab-wheels/public/simple/\n",
            "Collecting git+https://github.com/JoHof/lungmask\n",
            "  Cloning https://github.com/JoHof/lungmask to /tmp/pip-req-build-boh7ju4s\n",
            "  Running command git clone -q https://github.com/JoHof/lungmask /tmp/pip-req-build-boh7ju4s\n",
            "Requirement already satisfied: pydicom in /usr/local/lib/python3.7/dist-packages (from lungmask==0.2.11) (2.3.0)\n",
            "Requirement already satisfied: numpy in /usr/local/lib/python3.7/dist-packages (from lungmask==0.2.11) (1.21.6)\n",
            "Requirement already satisfied: torch in /usr/local/lib/python3.7/dist-packages (from lungmask==0.2.11) (1.8.1)\n",
            "Requirement already satisfied: scipy in /usr/local/lib/python3.7/dist-packages (from lungmask==0.2.11) (1.7.0)\n",
            "Requirement already satisfied: SimpleITK in /usr/local/lib/python3.7/dist-packages (from lungmask==0.2.11) (2.1.1.2)\n",
            "Requirement already satisfied: tqdm in /usr/local/lib/python3.7/dist-packages (from lungmask==0.2.11) (4.64.0)\n",
            "Requirement already satisfied: scikit-image in /usr/local/lib/python3.7/dist-packages (from lungmask==0.2.11) (0.18.3)\n",
            "Collecting fill_voids\n",
            "  Downloading fill_voids-2.0.2-cp37-cp37m-manylinux2010_x86_64.whl (1.1 MB)\n",
            "\u001b[K     |████████████████████████████████| 1.1 MB 33.0 MB/s \n",
            "\u001b[?25hCollecting fastremap\n",
            "  Downloading fastremap-1.13.2-cp37-cp37m-manylinux_2_17_x86_64.manylinux2014_x86_64.whl (4.2 MB)\n",
            "\u001b[K     |████████████████████████████████| 4.2 MB 35.2 MB/s \n",
            "\u001b[?25hRequirement already satisfied: pillow!=7.1.0,!=7.1.1,>=4.3.0 in /usr/local/lib/python3.7/dist-packages (from scikit-image->lungmask==0.2.11) (9.2.0)\n",
            "Requirement already satisfied: tifffile>=2019.7.26 in /usr/local/lib/python3.7/dist-packages (from scikit-image->lungmask==0.2.11) (2021.11.2)\n",
            "Requirement already satisfied: PyWavelets>=1.1.1 in /usr/local/lib/python3.7/dist-packages (from scikit-image->lungmask==0.2.11) (1.3.0)\n",
            "Requirement already satisfied: imageio>=2.3.0 in /usr/local/lib/python3.7/dist-packages (from scikit-image->lungmask==0.2.11) (2.9.0)\n",
            "Requirement already satisfied: networkx>=2.0 in /usr/local/lib/python3.7/dist-packages (from scikit-image->lungmask==0.2.11) (2.6.3)\n",
            "Requirement already satisfied: matplotlib!=3.0.0,>=2.0.0 in /usr/local/lib/python3.7/dist-packages (from scikit-image->lungmask==0.2.11) (3.2.2)\n",
            "Requirement already satisfied: kiwisolver>=1.0.1 in /usr/local/lib/python3.7/dist-packages (from matplotlib!=3.0.0,>=2.0.0->scikit-image->lungmask==0.2.11) (1.4.4)\n",
            "Requirement already satisfied: python-dateutil>=2.1 in /usr/local/lib/python3.7/dist-packages (from matplotlib!=3.0.0,>=2.0.0->scikit-image->lungmask==0.2.11) (2.8.2)\n",
            "Requirement already satisfied: cycler>=0.10 in /usr/local/lib/python3.7/dist-packages (from matplotlib!=3.0.0,>=2.0.0->scikit-image->lungmask==0.2.11) (0.11.0)\n",
            "Requirement already satisfied: pyparsing!=2.0.4,!=2.1.2,!=2.1.6,>=2.0.1 in /usr/local/lib/python3.7/dist-packages (from matplotlib!=3.0.0,>=2.0.0->scikit-image->lungmask==0.2.11) (3.0.9)\n",
            "Requirement already satisfied: typing-extensions in /usr/local/lib/python3.7/dist-packages (from kiwisolver>=1.0.1->matplotlib!=3.0.0,>=2.0.0->scikit-image->lungmask==0.2.11) (4.1.1)\n",
            "Requirement already satisfied: six>=1.5 in /usr/local/lib/python3.7/dist-packages (from python-dateutil>=2.1->matplotlib!=3.0.0,>=2.0.0->scikit-image->lungmask==0.2.11) (1.15.0)\n",
            "Building wheels for collected packages: lungmask\n",
            "  Building wheel for lungmask (setup.py) ... \u001b[?25l\u001b[?25hdone\n",
            "  Created wheel for lungmask: filename=lungmask-0.2.11-py3-none-any.whl size=17456 sha256=d307ef38245e611814a35c2a971dd39d9fee63bb1c4bce1cd6299752d14e13e9\n",
            "  Stored in directory: /tmp/pip-ephem-wheel-cache-8msgces5/wheels/b7/62/f7/fd172f57224a95cf73efec4a6029c8a78577dab75b949338d1\n",
            "Successfully built lungmask\n",
            "Installing collected packages: fastremap, fill-voids, lungmask\n",
            "Successfully installed fastremap-1.13.2 fill-voids-2.0.2 lungmask-0.2.11\n"
          ]
        }
      ]
    },
    {
      "cell_type": "code",
      "execution_count": null,
      "metadata": {
        "colab": {
          "base_uri": "https://localhost:8080/",
          "height": 245
        },
        "id": "mcQOKpmbDpWW",
        "outputId": "84cfed08-488a-4300-84bb-f2c2ccfcec39"
      },
      "outputs": [
        {
          "data": {
            "text/plain": [
              "Text(0.5, 1.0, 'Head')"
            ]
          },
          "execution_count": 144,
          "metadata": {},
          "output_type": "execute_result"
        },
        {
          "data": {
            "image/png": "[encoded data removed]",
            "text/plain": [
              "<Figure size 1440x720 with 6 Axes>"
            ]
          },
          "metadata": {},
          "output_type": "display_data"
        }
      ],
      "source": [
        "import matplotlib.pyplot as plt\n",
        "from matplotlib import transforms\n",
        "from matplotlib.colors import ListedColormap\n",
        "\n",
        "plt.rcParams['figure.figsize'] = [20, 10]\n",
        "fig, (ax1,ax2,ax3,ax4,ax5,ax6) = plt.subplots(1,6)\n",
        "xslice = 350\n",
        "yslice = 250 \n",
        "zslice = 100\n",
        "\n",
        "tissuescmap = ListedColormap(['black', # air\n",
        "##organs x 19\n",
        "## https://matplotlib.org/stable/gallery/color/named_colors.html\n",
        "'darkred', 'orange', 'yellow',     'green', 'mediumslateblue', 'cyan',\n",
        "'purple','coral', 'tan', 'fuchsia',  'chartreuse', 'deepskyblue', 'skyblue', 'indigo', 'lime', 'gold', 'pink',\n",
        " 'peru', 'olivedrab'])                            \n",
        "\n",
        "myslicect = ct[:,yslice,:]\n",
        "boxslice1 = legs[:,yslice,:]\n",
        "boxslice2 = pelvis[:,yslice,:]\n",
        "boxslice3 = abdomen[:,yslice,:]\n",
        "boxslice4 = chest[:,yslice,:]\n",
        "boxslice5 = shoulderneck[:,yslice,:]\n",
        "boxslice6 = head[:,yslice,:]\n",
        "a = ct.shape[0]/ct.shape[2]\n",
        "o = \"lower\"\n",
        "\n",
        "ax1.imshow(myslicect.T, cmap='gray', aspect = a,origin = o,vmin = -400, vmax = 400)\n",
        "ax1.imshow(boxslice1.T, cmap=\"Oranges\", alpha = 0.3, aspect=a, origin = o)\n",
        "ax1.set_title('Legs', fontsize=18)\n",
        "\n",
        "ax2.imshow(myslicect.T, cmap='gray', aspect = a,origin = o, vmin = -400, vmax = 400)\n",
        "ax2.imshow(boxslice2.T, cmap=\"Oranges\", alpha = 0.3, aspect=a, origin = o)\n",
        "ax2.set_title('Pelvis',fontsize=18)\n",
        "\n",
        "ax3.imshow(myslicect.T, cmap='gray', aspect = a,origin = o,vmin = -400, vmax = 400)\n",
        "ax3.imshow(boxslice3.T, cmap=\"Oranges\", alpha = 0.3, aspect=a, origin = o)\n",
        "ax3.set_title('Abdomen',fontsize=18)\n",
        "\n",
        "ax4.imshow(myslicect.T, cmap='gray', aspect = a,origin = o,vmin = -400, vmax = 400)\n",
        "ax4.imshow(boxslice4.T, cmap=\"Oranges\", alpha = 0.3, aspect=a, origin = o)\n",
        "ax4.set_title('Chest',fontsize=18)\n",
        "\n",
        "ax5.imshow(myslicect.T, cmap='gray', aspect = a,origin = o,vmin = -400, vmax = 400)\n",
        "ax5.imshow(boxslice5.T, cmap=\"Oranges\", alpha = 0.3, aspect=a, origin = o)\n",
        "ax5.set_title('Shoulder-neck',fontsize=18)\n",
        "\n",
        "ax6.imshow(myslicect.T, cmap='gray', aspect = a,origin = o,vmin = -400, vmax = 400)\n",
        "ax6.imshow(boxslice6.T, cmap=\"Oranges\", alpha = 0.3, aspect=a, origin = o)\n",
        "ax6.set_title('Head',fontsize=18)"
      ]
    },
    {
      "cell_type": "code",
      "source": [
        "# save body part to a single .csv\n",
        "fn_out = '/content/bpr_by_series.csv'\n",
        "print(bucket_name, bucket_path)\n",
        "\n",
        "df = pd.DataFrame(columns = ['SeriesUID','bodypart'])\n",
        "k=0\n",
        "storage_client = storage.Client()\n",
        "blobs = storage_client.list_blobs(bucket_name)\n",
        "for b in blobs:\n",
        "  #print(b.name)\n",
        "  p = os.path.split(b.name)\n",
        "  # skip non-axial and folders\n",
        "  if p[0]==bucket_path and p[1].split('.')[-1]=='json':\n",
        "    k +=1\n",
        "    seriesuid = '.'.join(p[1].split('.')[:-1])\n",
        "    #print(b.name)\n",
        "    contents = storage_client.bucket(bucket_name).blob(b.name).download_as_string()\n",
        "    jdata = json.loads(contents)\n",
        "    for (bodypart, zlist) in jdata['body part examined'].items():\n",
        "      if len(zlist) >0:\n",
        "        df = df.append( {'SeriesUID': seriesuid, 'bodypart': bodypart }, ignore_index = True)\n",
        "      if k%10==0:\n",
        "        print(k,' ', end='')\n",
        "      if k%120==0:\n",
        "        print('')\n",
        "print('\\nfiles processed', k)\n",
        "print(df)\n",
        "df.to_csv(fn_out, index=False)\n",
        "cmd = 'gsutil cp %s gs://%s/%s/results-summary/' % (fn_out, bucket_name,bucket_path)\n",
        "print(cmd)\n",
        "os.system(cmd)"
      ],
      "metadata": {
        "id": "zj32N5DuSAq4"
      },
      "execution_count": null,
      "outputs": []
    },
    {
      "cell_type": "code",
      "execution_count": null,
      "metadata": {
        "id": "XqxGRVE1ki00"
      },
      "outputs": [],
      "source": [
        "file_gs_uri = \"gs://%s/%s/%s.json\" % (bucket_name, bucket_path, seriesuid)\n",
        "\n",
        "json_list = glob(os.path.join( pat_dir_path_json,'*.json'))\n",
        "  print(len(json_list), 'files for this patient')\n",
        "\n",
        "  for jn in json_list:\n",
        "    fileObject = open(jn, \"r\")\n",
        "    jsonContent = fileObject.read()\n",
        "    aList = json.loads(jsonContent)\n",
        "\n",
        "    #print(aList['body part examined'])\n",
        "\n",
        "    jj = os.path.split(jn)\n",
        "    jjp = jj[0] # path\n",
        "    jjn = jj[1] # json file name\n",
        "    bpfn = os.path.join(jjp, jjn.split('.')[0]+'_bodypart_regr.txt')\n",
        "\n",
        "    f = open(bpfn,'w')\n",
        "    for (bodypart, zlist) in aList['body part examined'].items():\n",
        "      #print(jn)\n",
        "      print(bodypart, zlist)\n",
        "      if (len(zlist)>0):\n",
        "        f.write(bodypart+'\\n')\n",
        "    f.close()\n"
      ]
    }
  ]
}