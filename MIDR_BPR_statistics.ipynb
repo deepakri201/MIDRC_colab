{
  "nbformat": 4,
  "nbformat_minor": 0,
  "metadata": {
    "colab": {
      "provenance": []
    },
    "kernelspec": {
      "name": "python3",
      "display_name": "Python 3"
    },
    "language_info": {
      "name": "python"
    }
  },
  "cells": [
    {
      "cell_type": "code",
      "execution_count": 1,
      "metadata": {
        "colab": {
          "base_uri": "https://localhost:8080/"
        },
        "id": "QZr5-mEOOxyC",
        "outputId": "d3df9ae9-4840-4b4e-ac1f-05dad8ed30f5"
      },
      "outputs": [
        {
          "output_type": "stream",
          "name": "stdout",
          "text": [
            "Updated property [core/project].\n"
          ]
        }
      ],
      "source": [
        "!gcloud config set project  bwh-midrc-rapid-res-1655321320"
      ]
    },
    {
      "cell_type": "code",
      "execution_count": 2,
      "metadata": {
        "id": "3Kk0d3lMmDp3"
      },
      "outputs": [],
      "source": [
        "from google.colab import auth\n",
        "auth.authenticate_user()"
      ]
    },
    {
      "cell_type": "code",
      "execution_count": 3,
      "metadata": {
        "id": "Yh3-KLKmwKkK"
      },
      "outputs": [],
      "source": [
        "  project_name = \"bwh-midrc-rapid-res-1655321320\"\n",
        "  bucket_name = \"midrc-analysis-bwh\"\n",
        "  bucket_path = \"bpr-results/\""
      ]
    },
    {
      "cell_type": "code",
      "source": [
        "import os\n",
        "import shutil\n",
        "import glob\n",
        "import json\n",
        "import matplotlib.pyplot as plt\n",
        "from matplotlib import transforms\n",
        "from matplotlib.colors import ListedColormap\n",
        "import numpy as np"
      ],
      "metadata": {
        "id": "_QlWCQXYkXGz"
      },
      "execution_count": 4,
      "outputs": []
    },
    {
      "cell_type": "code",
      "source": [
        "!pip install dicomweb-client"
      ],
      "metadata": {
        "colab": {
          "base_uri": "https://localhost:8080/",
          "height": 641
        },
        "id": "Y0rZyRJJmGQZ",
        "outputId": "025da8e9-bc1a-4725-b5b6-2627b564518f"
      },
      "execution_count": 5,
      "outputs": [
        {
          "output_type": "stream",
          "name": "stdout",
          "text": [
            "Looking in indexes: https://pypi.org/simple, https://us-python.pkg.dev/colab-wheels/public/simple/\n",
            "Collecting dicomweb-client\n",
            "  Downloading dicomweb_client-0.57.1-py3-none-any.whl (58 kB)\n",
            "\u001b[K     |████████████████████████████████| 58 kB 3.1 MB/s \n",
            "\u001b[?25hRequirement already satisfied: numpy>=1.19 in /usr/local/lib/python3.7/dist-packages (from dicomweb-client) (1.21.6)\n",
            "Collecting retrying>=1.3.3\n",
            "  Downloading retrying-1.3.3.tar.gz (10 kB)\n",
            "Collecting Pillow>=8.3\n",
            "  Downloading Pillow-9.2.0-cp37-cp37m-manylinux_2_17_x86_64.manylinux2014_x86_64.whl (3.1 MB)\n",
            "\u001b[K     |████████████████████████████████| 3.1 MB 10.9 MB/s \n",
            "\u001b[?25hRequirement already satisfied: requests>=2.18 in /usr/local/lib/python3.7/dist-packages (from dicomweb-client) (2.23.0)\n",
            "Collecting pydicom>=2.2\n",
            "  Downloading pydicom-2.3.0-py3-none-any.whl (2.0 MB)\n",
            "\u001b[K     |████████████████████████████████| 2.0 MB 48.6 MB/s \n",
            "\u001b[?25hRequirement already satisfied: typing-extensions>=4.0 in /usr/local/lib/python3.7/dist-packages (from dicomweb-client) (4.1.1)\n",
            "Requirement already satisfied: urllib3!=1.25.0,!=1.25.1,<1.26,>=1.21.1 in /usr/local/lib/python3.7/dist-packages (from requests>=2.18->dicomweb-client) (1.24.3)\n",
            "Requirement already satisfied: chardet<4,>=3.0.2 in /usr/local/lib/python3.7/dist-packages (from requests>=2.18->dicomweb-client) (3.0.4)\n",
            "Requirement already satisfied: idna<3,>=2.5 in /usr/local/lib/python3.7/dist-packages (from requests>=2.18->dicomweb-client) (2.10)\n",
            "Requirement already satisfied: certifi>=2017.4.17 in /usr/local/lib/python3.7/dist-packages (from requests>=2.18->dicomweb-client) (2022.9.24)\n",
            "Requirement already satisfied: six>=1.7.0 in /usr/local/lib/python3.7/dist-packages (from retrying>=1.3.3->dicomweb-client) (1.15.0)\n",
            "Building wheels for collected packages: retrying\n",
            "  Building wheel for retrying (setup.py) ... \u001b[?25l\u001b[?25hdone\n",
            "  Created wheel for retrying: filename=retrying-1.3.3-py3-none-any.whl size=11447 sha256=4fc4d7452b87e8e5e257a22b6b64f50afe7d207b77fed04be9317b18fd95089f\n",
            "  Stored in directory: /root/.cache/pip/wheels/f9/8d/8d/f6af3f7f9eea3553bc2fe6d53e4b287dad18b06a861ac56ddf\n",
            "Successfully built retrying\n",
            "Installing collected packages: retrying, pydicom, Pillow, dicomweb-client\n",
            "  Attempting uninstall: Pillow\n",
            "    Found existing installation: Pillow 7.1.2\n",
            "    Uninstalling Pillow-7.1.2:\n",
            "      Successfully uninstalled Pillow-7.1.2\n",
            "Successfully installed Pillow-9.2.0 dicomweb-client-0.57.1 pydicom-2.3.0 retrying-1.3.3\n"
          ]
        },
        {
          "output_type": "display_data",
          "data": {
            "application/vnd.colab-display-data+json": {
              "pip_warning": {
                "packages": [
                  "PIL"
                ]
              }
            }
          },
          "metadata": {}
        }
      ]
    },
    {
      "cell_type": "code",
      "execution_count": 25,
      "metadata": {
        "id": "KZYEUFWcW6pG",
        "colab": {
          "base_uri": "https://localhost:8080/"
        },
        "outputId": "ed089d6c-47db-489f-da70-07eb9afeb724"
      },
      "outputs": [
        {
          "output_type": "stream",
          "name": "stdout",
          "text": [
            "Looking in indexes: https://pypi.org/simple, https://us-python.pkg.dev/colab-wheels/public/simple/\n",
            "Requirement already satisfied: pynrrd in /usr/local/lib/python3.7/dist-packages (0.4.3)\n",
            "Requirement already satisfied: numpy>=1.11.1 in /usr/local/lib/python3.7/dist-packages (from pynrrd) (1.21.6)\n"
          ]
        }
      ],
      "source": [
        "#install nrrd\n",
        "!pip install pynrrd"
      ]
    },
    {
      "cell_type": "code",
      "source": [
        "from google.cloud import storage\n",
        "\n",
        "storage_client = storage.Client(project = project_name)\n",
        "#bucket = storage_client.get_bucket(bucket_name)\n",
        "\n",
        "series_instance_uids = []\n",
        "\n",
        "#blobs = storage_client.list_blobs(bucket)\n",
        "blobs = storage_client.list_blobs(bucket_name, prefix=bucket_path, delimiter='/')\n",
        "for blob in blobs:\n",
        "    bn = blob.name\n",
        "    bs = bn.split('.')\n",
        "    if bs[-1] == 'json':\n",
        "      bss = bn.split('/')[1]\n",
        "      bs3 = bss.split('.')\n",
        "      bs4 = '.'.join(bs3[:-1])\n",
        "      series_instance_uids.append(bs4)\n",
        "\n",
        "print(series_instance_uids[:10])"
      ],
      "metadata": {
        "colab": {
          "base_uri": "https://localhost:8080/"
        },
        "id": "9hEvqjcFUMoF",
        "outputId": "e1735d8a-3bad-4daf-eb3d-9a907a53b537"
      },
      "execution_count": null,
      "outputs": [
        {
          "output_type": "stream",
          "name": "stdout",
          "text": [
            "['1.2.826.0.1.3680043.10.474.419639.105799060738901793068313281334', '1.2.826.0.1.3680043.10.474.419639.106364025147079899289440200715', '1.2.826.0.1.3680043.10.474.419639.149051607502633615235577977952', '1.2.826.0.1.3680043.10.474.419639.189346812051260775638656981947', '1.2.826.0.1.3680043.10.474.419639.192916356998524553834723357563', '1.2.826.0.1.3680043.10.474.419639.198735019931123383691750806063', '1.2.826.0.1.3680043.10.474.419639.249044315484665760654506668895', '1.2.826.0.1.3680043.10.474.419639.259584978733948574762940092562', '1.2.826.0.1.3680043.10.474.419639.269534881585852761235289087419', '1.2.826.0.1.3680043.10.474.419639.272117657178318732150423166273']\n"
          ]
        }
      ]
    },
    {
      "cell_type": "code",
      "source": [
        "print(len(series_instance_uids))"
      ],
      "metadata": {
        "colab": {
          "base_uri": "https://localhost:8080/"
        },
        "id": "sHEqz7uhwsq0",
        "outputId": "11a7b6fa-53e9-45d1-9c42-01c75c5dc8a5"
      },
      "execution_count": null,
      "outputs": [
        {
          "output_type": "stream",
          "name": "stdout",
          "text": [
            "495\n"
          ]
        }
      ]
    },
    {
      "cell_type": "code",
      "source": [
        "path_downloaded = '/content/downloaded_data'\n",
        "path_nifti = '/content/nifti_data'\n",
        "path_json =  '/content/json_data'\n",
        "path_nrrd = '/content/nrrd_data'\n",
        "\n",
        "for x in [path_downloaded, path_nifti, path_json, path_nrrd]:\n",
        "  if os.path.isdir(x):\n",
        "    try:\n",
        "      shutil.rmtree(x)\n",
        "    except OSError as err:\n",
        "      print(\"Error: %s : %s\" % (x, err.strerror))  \n",
        "  os.mkdir(x)\n"
      ],
      "metadata": {
        "id": "xTATlhDLj7oj"
      },
      "execution_count": null,
      "outputs": []
    },
    {
      "cell_type": "code",
      "source": [
        "fn_seg_nrrd = os.path.join(path_nrrd, 'seg_%s.nrrd' % seriesuid)\n",
        "nrrd.write( fn_seg_nrrd, s,  header = ctheader)"
      ],
      "metadata": {
        "id": "TijIapt_Dkxt"
      },
      "execution_count": null,
      "outputs": []
    },
    {
      "cell_type": "code",
      "source": [
        "cmd1 = \"gsutil cp %s gs://%s/%s\" % (fn_seg_nrrd, bucket_name, bucket_path)\n",
        "print(cmd1)\n",
        "os.system(cmd1)\n",
        "\n",
        "cmd2 = \"gsutil cp %s gs://%s/%s\" % (fn_ct_nrrd, bucket_name, bucket_path)\n",
        "print(cmd2)\n",
        "os.system(cmd2)"
      ],
      "metadata": {
        "id": "IObv5RazEPDN",
        "outputId": "7d0999f2-7520-4ec4-8d77-dc1fd7b01d63",
        "colab": {
          "base_uri": "https://localhost:8080/"
        }
      },
      "execution_count": null,
      "outputs": [
        {
          "output_type": "stream",
          "name": "stdout",
          "text": [
            "gsutil cp /content/nrrd_data/seg_1.3.6.1.4.1.5962.99.1.3492129840.282517718.1618399864692.46885.0.nrrd gs://midrc-analysis-bwh/bpr-results/\n",
            "gsutil cp /content/nrrd_data/ct_1.3.6.1.4.1.5962.99.1.3492129840.282517718.1618399864692.46885.0.nrrd gs://midrc-analysis-bwh/bpr-results/\n"
          ]
        },
        {
          "output_type": "execute_result",
          "data": {
            "text/plain": [
              "0"
            ]
          },
          "metadata": {},
          "execution_count": 46
        }
      ]
    },
    {
      "cell_type": "code",
      "source": [
        "# Define slices with segmented lungs\n",
        "\n",
        "l1_list = list(np.array(np.where((np.sum((s==1),axis=(0,1))>0)==True)[0]).astype(int))\n",
        "l1_min = min(l1_list)\n",
        "l1_max = max(l1_list)\n",
        "#print(l1_min, l1_max)\n",
        "\n",
        "l2_list = list(np.array(np.where((np.sum((s==2),axis=(0,1))>0)==True)[0]).astype(int))\n",
        "l2_min = min(l2_list)\n",
        "l2_max = max(l2_list)\n",
        "#print(l2_min, l2_max)\n",
        "\n",
        "\n",
        "lmin_all = min([l1_min, l1_max,l2_min, l2_max])\n",
        "lmax_all = max([l1_min, l1_max,l2_min, l2_max])\n",
        "llist_out = [lmin_all, lmax_all]\n",
        "lungs = list(range(lmin_all, lmax_all+1, 1))\n",
        "\n",
        "print(llist_out)\n",
        "print(lungs)"
      ],
      "metadata": {
        "colab": {
          "base_uri": "https://localhost:8080/"
        },
        "id": "NGmJbJV4_j6b",
        "outputId": "674d91c9-3558-44cb-f5e5-ac311d7021af"
      },
      "execution_count": null,
      "outputs": [
        {
          "output_type": "stream",
          "name": "stdout",
          "text": [
            "[155, 177]\n",
            "[155, 156, 157, 158, 159, 160, 161, 162, 163, 164, 165, 166, 167, 168, 169, 170, 171, 172, 173, 174, 175, 176, 177]\n"
          ]
        }
      ]
    },
    {
      "cell_type": "code",
      "source": [
        "# Use BPR json for slice classification  \n",
        "\n",
        "file_json = '%s.json' % seriesuid\n",
        "cmd = \"gsutil cp gs://%s/%s%s  %s\" % (bucket_name, bucket_path, file_json, path_json)\n",
        "print(cmd)\n",
        "os.system(cmd)\n",
        "\n",
        "fileObject = open(\"%s/%s\" % (path_json, file_json), \"r\")\n",
        "jsonContent = fileObject.read()\n",
        "aList = json.loads(jsonContent)\n",
        "\n",
        "for (bodypart, zlist) in aList['body part examined'].items():\n",
        "    print(bodypart, zlist)"
      ],
      "metadata": {
        "id": "uPdiLW0vGgee"
      },
      "execution_count": null,
      "outputs": []
    },
    {
      "cell_type": "code",
      "source": [
        "for seriesuid in series_instance_uids:\n",
        "  \n",
        "\n",
        "  file_json = '%s.json' % seriesuid\n",
        "  cmd = \"gsutil cp gs://%s/%s%s  %s\" % (bucket_name, bucket_path, file_json, path_json)\n",
        "  print(cmd)\n",
        "  os.system(cmd)"
      ],
      "metadata": {
        "id": "VLBjpPZzh4na"
      },
      "execution_count": null,
      "outputs": []
    },
    {
      "cell_type": "code",
      "source": [
        "k = 0\n",
        "\n",
        "for seriesuid in series_instance_uids:\n",
        "\n",
        "  file_json = seriesuid + '.json'\n",
        "\n",
        "  fileObject = open(\"%s/%s\" % (path_json, file_json), \"r\")\n",
        "  jsonContent = fileObject.read()\n",
        "  aList = json.loads(jsonContent)\n",
        "\n",
        "  bp = aList['body part examined']\n",
        "  ch = bp['chest']\n",
        "  l = len(ch)\n",
        "  if l > 0:\n",
        "    k=k+1\n",
        "\n",
        "print(k)"
      ],
      "metadata": {
        "colab": {
          "base_uri": "https://localhost:8080/"
        },
        "id": "FxnLFImXlCEE",
        "outputId": "be437054-d302-4727-ef13-eca58264909b"
      },
      "execution_count": null,
      "outputs": [
        {
          "output_type": "stream",
          "name": "stdout",
          "text": [
            "479\n"
          ]
        }
      ]
    },
    {
      "cell_type": "code",
      "source": [
        "file_gs_uri = \"gs://%s/%s/%s.json\" % (bucket_name, bucket_path, seriesuid)\n",
        "\n",
        "json_list = glob(os.path.join( pat_dir_path_json,'*.json'))\n",
        "  print(len(json_list), 'files for this patient')\n",
        "\n",
        "  for jn in json_list:\n",
        "    fileObject = open(jn, \"r\")\n",
        "    jsonContent = fileObject.read()\n",
        "    aList = json.loads(jsonContent)\n",
        "\n",
        "    #print(aList['body part examined'])\n",
        "\n",
        "    jj = os.path.split(jn)\n",
        "    jjp = jj[0] # path\n",
        "    jjn = jj[1] # json file name\n",
        "    bpfn = os.path.join(jjp, jjn.split('.')[0]+'_bodypart_regr.txt')\n",
        "\n",
        "    f = open(bpfn,'w')\n",
        "    for (bodypart, zlist) in aList['body part examined'].items():\n",
        "      #print(jn)\n",
        "      print(bodypart, zlist)\n",
        "      if (len(zlist)>0):\n",
        "        f.write(bodypart+'\\n')\n",
        "    f.close()\n"
      ],
      "metadata": {
        "id": "ZcxL4fiGrg0B"
      },
      "execution_count": null,
      "outputs": []
    },
    {
      "cell_type": "code",
      "source": [
        "# save body part to a single .csv\n",
        "fn_out = '/content/bpr_by_series.csv'\n",
        "print(bucket_name, bucket_path)\n",
        "\n",
        "df = pd.DataFrame(columns = ['SeriesUID','bodypart'])\n",
        "k=0\n",
        "storage_client = storage.Client()\n",
        "blobs = storage_client.list_blobs(bucket_name)\n",
        "for b in blobs:\n",
        "  #print(b.name)\n",
        "  p = os.path.split(b.name)\n",
        "  # skip non-axial and folders\n",
        "  if p[0]==bucket_path and p[1].split('.')[-1]=='json':\n",
        "    k +=1\n",
        "    seriesuid = '.'.join(p[1].split('.')[:-1])\n",
        "    #print(b.name)\n",
        "    contents = storage_client.bucket(bucket_name).blob(b.name).download_as_string()\n",
        "    jdata = json.loads(contents)\n",
        "    for (bodypart, zlist) in jdata['body part examined'].items():\n",
        "      if len(zlist) >0:\n",
        "        df = df.append( {'SeriesUID': seriesuid, 'bodypart': bodypart }, ignore_index = True)\n",
        "      if k%10==0:\n",
        "        print(k,' ', end='')\n",
        "      if k%120==0:\n",
        "        print('')\n",
        "print('\\nfiles processed', k)\n",
        "print(df)\n",
        "df.to_csv(fn_out, index=False)\n",
        "cmd = 'gsutil cp %s gs://%s/%s/results-summary/' % (fn_out, bucket_name,bucket_path)\n",
        "print(cmd)\n",
        "os.system(cmd)"
      ],
      "metadata": {
        "id": "l_akyZoOJGil"
      },
      "execution_count": null,
      "outputs": []
    },
    {
      "cell_type": "code",
      "source": [
        "# cleanup for the next iteration\n",
        "  \n",
        "for x in [path_downloaded, path_nifti, path_nrrd, path_json]:\n",
        "  if os.path.exists(x):\n",
        "    try:\n",
        "      shutil.rmtree(x)\n",
        "    except OSError as err:\n",
        "      print(\"Error: %s : %s\" % (x, err.strerror))"
      ],
      "metadata": {
        "id": "x4rfs-bCJVRO"
      },
      "execution_count": null,
      "outputs": []
    }
  ]
}